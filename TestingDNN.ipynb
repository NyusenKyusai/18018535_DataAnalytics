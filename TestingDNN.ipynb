{
  "nbformat": 4,
  "nbformat_minor": 0,
  "metadata": {
    "colab": {
      "name": "TestingDNN.ipynb",
      "provenance": [],
      "collapsed_sections": [],
      "include_colab_link": true
    },
    "kernelspec": {
      "name": "python3",
      "display_name": "Python 3"
    }
  },
  "cells": [
    {
      "cell_type": "markdown",
      "metadata": {
        "id": "view-in-github",
        "colab_type": "text"
      },
      "source": [
        "<a href=\"https://colab.research.google.com/github/NyusenKyusai/18018535_DataAnalytics/blob/main/TestingDNN.ipynb\" target=\"_parent\"><img src=\"https://colab.research.google.com/assets/colab-badge.svg\" alt=\"Open In Colab\"/></a>"
      ]
    },
    {
      "cell_type": "markdown",
      "source": [
        "Here I will creating a model for DNN with the dataset that is temperature, dew point, and has all outliers removed."
      ],
      "metadata": {
        "id": "clT3-Nr8Whb9"
      }
    },
    {
      "cell_type": "code",
      "metadata": {
        "id": "9-vuVzC7urdA"
      },
      "source": [
        "# needed to create the data frame\n",
        "import pandas as pd\n",
        "\n",
        "# create data frame from csv file we hosted on our github\n",
        "df1 = pd.read_csv('https://raw.githubusercontent.com/NyusenKyusai/18018535_DataAnalytics/main/dnnTDWeak.csv', index_col=0)\n",
        "df2 = pd.read_csv('https://raw.githubusercontent.com/NyusenKyusai/18018535_DataAnalytics/main/dnnTDSnowWeak.csv', index_col=0)\n",
        "df3 = pd.read_csv('https://raw.githubusercontent.com/NyusenKyusai/18018535_DataAnalytics/main/dnnTDMaxMinWeak.csv', index_col=0)\n",
        "df4 = pd.read_csv('https://raw.githubusercontent.com/NyusenKyusai/18018535_DataAnalytics/main/dnnTDMaxMinSndpWeak.csv', index_col=0)"
      ],
      "execution_count": 1,
      "outputs": []
    },
    {
      "cell_type": "code",
      "metadata": {
        "id": "6saFKcySvM9c",
        "colab": {
          "base_uri": "https://localhost:8080/"
        },
        "outputId": "f0689caa-3b38-462b-8794-154bc48aa4d5"
      },
      "source": [
        "# make sure we have our data by printing it out\n",
        "print(df1[:6])"
      ],
      "execution_count": 2,
      "outputs": [
        {
          "output_type": "stream",
          "name": "stdout",
          "text": [
            "   month  year  temp  dewp  NUM_CRIMES\n",
            "1      1  2015  25.7  16.0         674\n",
            "2      1  2015  31.5  27.0         648\n",
            "3      1  2015  29.0  26.1         514\n",
            "4      1  2015   2.2  -7.4         523\n",
            "5      1  2015   8.1  -0.5         590\n",
            "6      1  2015   4.8  -3.9         647\n"
          ]
        }
      ]
    },
    {
      "cell_type": "code",
      "metadata": {
        "id": "ltGRAo1hvO8I",
        "colab": {
          "base_uri": "https://localhost:8080/"
        },
        "outputId": "c2325af7-7fbf-40eb-f6f7-97cb9d5192c3"
      },
      "source": [
        "# needed to help with speedy maths based calculations\n",
        "import numpy as np\n",
        "\n",
        "# iloc allows us to select by rows. Here, we are shuffling the data by rows determined at random.\n",
        "shuffle = df4.iloc[np.random.permutation(len(df4))]\n",
        "\n",
        "# df1 = 4\n",
        "# df2 = 5\n",
        "# df3 = 6\n",
        "# df4 = 7\n",
        "# we are selecting all rows of the columns outliined i.e. The 3rd (2 as indexes start from 0)\n",
        "predictors = shuffle.iloc[:,0:7]\n",
        "\n",
        "# print out the first 6 rows of predictors.\n",
        "print(predictors[:6])"
      ],
      "execution_count": 323,
      "outputs": [
        {
          "output_type": "stream",
          "name": "stdout",
          "text": [
            "      month  year  temp  dewp   max   min  sndp\n",
            "898       7  2017  80.9  66.0  93.0  69.1   0.0\n",
            "1112      2  2018  19.5  13.4  21.9  15.1  11.8\n",
            "1703     10  2019  54.6  46.3  63.0  45.0   0.0\n",
            "249       9  2015  72.0  67.2  84.9  61.0   0.0\n",
            "1435      1  2019  37.9  31.7  52.0  30.0   0.0\n",
            "3         1  2015  29.0  26.1  34.0  12.9   2.0\n"
          ]
        }
      ]
    },
    {
      "cell_type": "code",
      "metadata": {
        "id": "LL2F4qYEvbAK",
        "colab": {
          "base_uri": "https://localhost:8080/",
          "height": 206
        },
        "outputId": "3dce48cb-767f-405a-aa05-c6d72cb21972"
      },
      "source": [
        "# print out the shuffled data (first 5 rows)\n",
        "shuffle[:5]"
      ],
      "execution_count": 324,
      "outputs": [
        {
          "output_type": "execute_result",
          "data": {
            "text/plain": [
              "      month  year  temp  dewp   max   min  sndp  NUM_CRIMES\n",
              "898       7  2017  80.9  66.0  93.0  69.1   0.0         758\n",
              "1112      2  2018  19.5  13.4  21.9  15.1  11.8         537\n",
              "1703     10  2019  54.6  46.3  63.0  45.0   0.0         723\n",
              "249       9  2015  72.0  67.2  84.9  61.0   0.0         791\n",
              "1435      1  2019  37.9  31.7  52.0  30.0   0.0         664"
            ],
            "text/html": [
              "\n",
              "  <div id=\"df-0acaa393-175e-48a9-ad73-d1283ca9fa4f\">\n",
              "    <div class=\"colab-df-container\">\n",
              "      <div>\n",
              "<style scoped>\n",
              "    .dataframe tbody tr th:only-of-type {\n",
              "        vertical-align: middle;\n",
              "    }\n",
              "\n",
              "    .dataframe tbody tr th {\n",
              "        vertical-align: top;\n",
              "    }\n",
              "\n",
              "    .dataframe thead th {\n",
              "        text-align: right;\n",
              "    }\n",
              "</style>\n",
              "<table border=\"1\" class=\"dataframe\">\n",
              "  <thead>\n",
              "    <tr style=\"text-align: right;\">\n",
              "      <th></th>\n",
              "      <th>month</th>\n",
              "      <th>year</th>\n",
              "      <th>temp</th>\n",
              "      <th>dewp</th>\n",
              "      <th>max</th>\n",
              "      <th>min</th>\n",
              "      <th>sndp</th>\n",
              "      <th>NUM_CRIMES</th>\n",
              "    </tr>\n",
              "  </thead>\n",
              "  <tbody>\n",
              "    <tr>\n",
              "      <th>898</th>\n",
              "      <td>7</td>\n",
              "      <td>2017</td>\n",
              "      <td>80.9</td>\n",
              "      <td>66.0</td>\n",
              "      <td>93.0</td>\n",
              "      <td>69.1</td>\n",
              "      <td>0.0</td>\n",
              "      <td>758</td>\n",
              "    </tr>\n",
              "    <tr>\n",
              "      <th>1112</th>\n",
              "      <td>2</td>\n",
              "      <td>2018</td>\n",
              "      <td>19.5</td>\n",
              "      <td>13.4</td>\n",
              "      <td>21.9</td>\n",
              "      <td>15.1</td>\n",
              "      <td>11.8</td>\n",
              "      <td>537</td>\n",
              "    </tr>\n",
              "    <tr>\n",
              "      <th>1703</th>\n",
              "      <td>10</td>\n",
              "      <td>2019</td>\n",
              "      <td>54.6</td>\n",
              "      <td>46.3</td>\n",
              "      <td>63.0</td>\n",
              "      <td>45.0</td>\n",
              "      <td>0.0</td>\n",
              "      <td>723</td>\n",
              "    </tr>\n",
              "    <tr>\n",
              "      <th>249</th>\n",
              "      <td>9</td>\n",
              "      <td>2015</td>\n",
              "      <td>72.0</td>\n",
              "      <td>67.2</td>\n",
              "      <td>84.9</td>\n",
              "      <td>61.0</td>\n",
              "      <td>0.0</td>\n",
              "      <td>791</td>\n",
              "    </tr>\n",
              "    <tr>\n",
              "      <th>1435</th>\n",
              "      <td>1</td>\n",
              "      <td>2019</td>\n",
              "      <td>37.9</td>\n",
              "      <td>31.7</td>\n",
              "      <td>52.0</td>\n",
              "      <td>30.0</td>\n",
              "      <td>0.0</td>\n",
              "      <td>664</td>\n",
              "    </tr>\n",
              "  </tbody>\n",
              "</table>\n",
              "</div>\n",
              "      <button class=\"colab-df-convert\" onclick=\"convertToInteractive('df-0acaa393-175e-48a9-ad73-d1283ca9fa4f')\"\n",
              "              title=\"Convert this dataframe to an interactive table.\"\n",
              "              style=\"display:none;\">\n",
              "        \n",
              "  <svg xmlns=\"http://www.w3.org/2000/svg\" height=\"24px\"viewBox=\"0 0 24 24\"\n",
              "       width=\"24px\">\n",
              "    <path d=\"M0 0h24v24H0V0z\" fill=\"none\"/>\n",
              "    <path d=\"M18.56 5.44l.94 2.06.94-2.06 2.06-.94-2.06-.94-.94-2.06-.94 2.06-2.06.94zm-11 1L8.5 8.5l.94-2.06 2.06-.94-2.06-.94L8.5 2.5l-.94 2.06-2.06.94zm10 10l.94 2.06.94-2.06 2.06-.94-2.06-.94-.94-2.06-.94 2.06-2.06.94z\"/><path d=\"M17.41 7.96l-1.37-1.37c-.4-.4-.92-.59-1.43-.59-.52 0-1.04.2-1.43.59L10.3 9.45l-7.72 7.72c-.78.78-.78 2.05 0 2.83L4 21.41c.39.39.9.59 1.41.59.51 0 1.02-.2 1.41-.59l7.78-7.78 2.81-2.81c.8-.78.8-2.07 0-2.86zM5.41 20L4 18.59l7.72-7.72 1.47 1.35L5.41 20z\"/>\n",
              "  </svg>\n",
              "      </button>\n",
              "      \n",
              "  <style>\n",
              "    .colab-df-container {\n",
              "      display:flex;\n",
              "      flex-wrap:wrap;\n",
              "      gap: 12px;\n",
              "    }\n",
              "\n",
              "    .colab-df-convert {\n",
              "      background-color: #E8F0FE;\n",
              "      border: none;\n",
              "      border-radius: 50%;\n",
              "      cursor: pointer;\n",
              "      display: none;\n",
              "      fill: #1967D2;\n",
              "      height: 32px;\n",
              "      padding: 0 0 0 0;\n",
              "      width: 32px;\n",
              "    }\n",
              "\n",
              "    .colab-df-convert:hover {\n",
              "      background-color: #E2EBFA;\n",
              "      box-shadow: 0px 1px 2px rgba(60, 64, 67, 0.3), 0px 1px 3px 1px rgba(60, 64, 67, 0.15);\n",
              "      fill: #174EA6;\n",
              "    }\n",
              "\n",
              "    [theme=dark] .colab-df-convert {\n",
              "      background-color: #3B4455;\n",
              "      fill: #D2E3FC;\n",
              "    }\n",
              "\n",
              "    [theme=dark] .colab-df-convert:hover {\n",
              "      background-color: #434B5C;\n",
              "      box-shadow: 0px 1px 3px 1px rgba(0, 0, 0, 0.15);\n",
              "      filter: drop-shadow(0px 1px 2px rgba(0, 0, 0, 0.3));\n",
              "      fill: #FFFFFF;\n",
              "    }\n",
              "  </style>\n",
              "\n",
              "      <script>\n",
              "        const buttonEl =\n",
              "          document.querySelector('#df-0acaa393-175e-48a9-ad73-d1283ca9fa4f button.colab-df-convert');\n",
              "        buttonEl.style.display =\n",
              "          google.colab.kernel.accessAllowed ? 'block' : 'none';\n",
              "\n",
              "        async function convertToInteractive(key) {\n",
              "          const element = document.querySelector('#df-0acaa393-175e-48a9-ad73-d1283ca9fa4f');\n",
              "          const dataTable =\n",
              "            await google.colab.kernel.invokeFunction('convertToInteractive',\n",
              "                                                     [key], {});\n",
              "          if (!dataTable) return;\n",
              "\n",
              "          const docLinkHtml = 'Like what you see? Visit the ' +\n",
              "            '<a target=\"_blank\" href=https://colab.research.google.com/notebooks/data_table.ipynb>data table notebook</a>'\n",
              "            + ' to learn more about interactive tables.';\n",
              "          element.innerHTML = '';\n",
              "          dataTable['output_type'] = 'display_data';\n",
              "          await google.colab.output.renderOutput(dataTable, element);\n",
              "          const docLink = document.createElement('div');\n",
              "          docLink.innerHTML = docLinkHtml;\n",
              "          element.appendChild(docLink);\n",
              "        }\n",
              "      </script>\n",
              "    </div>\n",
              "  </div>\n",
              "  "
            ]
          },
          "metadata": {},
          "execution_count": 324
        }
      ]
    },
    {
      "cell_type": "code",
      "metadata": {
        "id": "IezylO-rvgE3",
        "colab": {
          "base_uri": "https://localhost:8080/"
        },
        "outputId": "834c1255-16d5-4b33-c337-bbc5067a6922"
      },
      "source": [
        "# Select all rows for the 2nd column (i.e. 1)\n",
        "targets = shuffle.iloc[:,-1]\n",
        "\n",
        "# print out the first 6 rows of the targets data.\n",
        "print(targets[:6])"
      ],
      "execution_count": 325,
      "outputs": [
        {
          "output_type": "stream",
          "name": "stdout",
          "text": [
            "898     758\n",
            "1112    537\n",
            "1703    723\n",
            "249     791\n",
            "1435    664\n",
            "3       514\n",
            "Name: NUM_CRIMES, dtype: int64\n"
          ]
        }
      ]
    },
    {
      "cell_type": "code",
      "metadata": {
        "id": "fOENBOn-vitN"
      },
      "source": [
        "# A scale is not required here, but the constant will be useful in the assignment.\n",
        "SCALE_NUM_TRIPS = 1.0"
      ],
      "execution_count": 326,
      "outputs": []
    },
    {
      "cell_type": "code",
      "metadata": {
        "id": "cri9VadSvm0m"
      },
      "source": [
        "# Split our data into a training set i.e. 75% of the length of the shuffle array\n",
        "trainsize = int(len(shuffle['NUM_CRIMES'])*0.75)\n",
        "# Split our data into a test set i.e. 20% of the length of the shuffle array\n",
        "testsize = int(len(shuffle['NUM_CRIMES'])*0.2)\n",
        "# The final test set size is 100% - 75% - 20% = 5% of the length of the shuffle array.\n",
        "finaltestsize = len(shuffle['NUM_CRIMES']) - trainsize - testsize\n",
        "\n",
        "# Define the number of input values (predictors)\n",
        "# This needs to change with the dataset\n",
        "nppredictors = 7\n",
        "# Define the number of output values (targets)\n",
        "noutputs = 1"
      ],
      "execution_count": 327,
      "outputs": []
    },
    {
      "cell_type": "code",
      "metadata": {
        "id": "Yo7CEhVHvukm",
        "colab": {
          "base_uri": "https://localhost:8080/"
        },
        "outputId": "d9026c7f-9d06-49e6-e313-7753662bd92a"
      },
      "source": [
        "# import tensorflow\n",
        "%tensorflow_version 1.x\n",
        "import tensorflow as tf\n",
        "\n",
        "# check the version\n",
        "print(tf.__version__)\n",
        "\n",
        "# needed for high-level file management\n",
        "import shutil  \n",
        "\n",
        "# logging for tensorflow\n",
        "tf.compat.v1.logging.set_verbosity(tf.compat.v1.logging.INFO)\n",
        "\n",
        "# removes a saved model from the last training attempt.\n",
        "# Different Data sets\n",
        "# dnnTDWeak\n",
        "# dnnTDSnowWeak\n",
        "# dnnTDMaxMinWeak\n",
        "# dnnTDMaxMinSndpWeak\n",
        "shutil.rmtree('/tmp/dnnTDMaxMinSndpWeak5', ignore_errors=True)\n",
        "\n",
        "estimator = tf.contrib.learn.SKCompat(tf.contrib.learn.DNNRegressor(model_dir='/tmp/dnnTDMaxMinSndpWeak5', hidden_units=[20,18,14], optimizer=tf.train.AdamOptimizer(learning_rate=0.01), enable_centered_bias=False, feature_columns=tf.contrib.learn.infer_real_valued_columns_from_input(predictors.values)))\n",
        "\n",
        "# Prints a log to show model is starting to train\n",
        "print(\"starting to train\");\n",
        "\n",
        "# Train the model. Pass in predictor values and target values.\n",
        "estimator.fit(predictors[:trainsize].values, targets[:trainsize].values.reshape(trainsize, noutputs)/SCALE_NUM_TRIPS, steps=10000)\n",
        "\n",
        "# Next, we can check our predictions based on our predictors.\n",
        "preds = estimator.predict(x=predictors[trainsize:testsize + trainsize].values)\n",
        "\n",
        "# Apply the Scale value (not really needed here) to the outputs.\n",
        "predslistscale = preds['scores']*SCALE_NUM_TRIPS\n",
        "\n",
        "# pred = format(str(predslistscale)) # useful for checking outputs and printing.\n",
        "\n",
        "# Calculate RMSE i.e. how good the model works using the predictions and targets.\n",
        "# i.e. take the difference between the actual and the forecast then square the difference, \n",
        "# find the average of all the squares and then find the square root. \n",
        "# The RMSE essentially punishes larger errors i.e. it puts a heavier weight on larger errors.\n",
        "rmse = np.sqrt(np.mean((targets[trainsize:testsize + trainsize].values - predslistscale)**2))\n",
        "print('DNNRegression has RMSE of {0}'.format(rmse));\n",
        "\n",
        "\n",
        "# Calculate the mean of the Life Satisfaction Values.\n",
        "avg = np.mean(shuffle['NUM_CRIMES'][:trainsize])\n",
        "\n",
        "# Calculate the RMSE using Life Satisfaction Values and the mean of all target values.\n",
        "# The fit of a proposed regression model should therefore be better than the fit of the mean model.\n",
        "# In this case, it doesn't seem to be the case but it will vary on every run.\n",
        "rmse = np.sqrt(np.mean((shuffle['NUM_CRIMES'][trainsize:testsize + trainsize] - avg)**2))\n",
        "print('Just using average = {0} has RMSE of {1}'.format(avg, rmse));"
      ],
      "execution_count": 328,
      "outputs": [
        {
          "output_type": "stream",
          "name": "stdout",
          "text": [
            "1.15.2\n",
            "WARNING:tensorflow:float64 is not supported by many models, consider casting to float32.\n",
            "INFO:tensorflow:Using default config.\n",
            "INFO:tensorflow:Using config: {'_task_type': None, '_task_id': 0, '_cluster_spec': <tensorflow.python.training.server_lib.ClusterSpec object at 0x7fe8fa11ee10>, '_master': '', '_num_ps_replicas': 0, '_num_worker_replicas': 0, '_environment': 'local', '_is_chief': True, '_evaluation_master': '', '_train_distribute': None, '_eval_distribute': None, '_experimental_max_worker_delay_secs': None, '_device_fn': None, '_tf_config': gpu_options {\n",
            "  per_process_gpu_memory_fraction: 1.0\n",
            "}\n",
            ", '_tf_random_seed': None, '_save_summary_steps': 100, '_save_checkpoints_secs': 600, '_log_step_count_steps': 100, '_protocol': None, '_session_config': None, '_save_checkpoints_steps': None, '_keep_checkpoint_max': 5, '_keep_checkpoint_every_n_hours': 10000, '_model_dir': '/tmp/dnnTDMaxMinSndpWeak5', '_session_creation_timeout_secs': 7200}\n",
            "starting to train\n",
            "WARNING:tensorflow:float64 is not supported by many models, consider casting to float32.\n",
            "WARNING:tensorflow:float64 is not supported by many models, consider casting to float32.\n",
            "INFO:tensorflow:Create CheckpointSaverHook.\n",
            "INFO:tensorflow:Graph was finalized.\n",
            "INFO:tensorflow:Running local_init_op.\n",
            "INFO:tensorflow:Done running local_init_op.\n",
            "INFO:tensorflow:Saving checkpoints for 0 into /tmp/dnnTDMaxMinSndpWeak5/model.ckpt.\n",
            "INFO:tensorflow:loss = 892842.5, step = 1\n",
            "INFO:tensorflow:global_step/sec: 479.485\n",
            "INFO:tensorflow:loss = 4693.043, step = 101 (0.213 sec)\n",
            "INFO:tensorflow:global_step/sec: 646.071\n",
            "INFO:tensorflow:loss = 3879.9172, step = 201 (0.155 sec)\n",
            "INFO:tensorflow:global_step/sec: 568.652\n",
            "INFO:tensorflow:loss = 2165.5083, step = 301 (0.174 sec)\n",
            "INFO:tensorflow:global_step/sec: 615.261\n",
            "INFO:tensorflow:loss = 3192.088, step = 401 (0.166 sec)\n",
            "INFO:tensorflow:global_step/sec: 582.517\n",
            "INFO:tensorflow:loss = 2719.231, step = 501 (0.170 sec)\n",
            "INFO:tensorflow:global_step/sec: 674.431\n",
            "INFO:tensorflow:loss = 3402.1162, step = 601 (0.149 sec)\n",
            "INFO:tensorflow:global_step/sec: 618.026\n",
            "INFO:tensorflow:loss = 3882.8508, step = 701 (0.162 sec)\n",
            "INFO:tensorflow:global_step/sec: 643.515\n",
            "INFO:tensorflow:loss = 3725.6584, step = 801 (0.156 sec)\n",
            "INFO:tensorflow:global_step/sec: 629.662\n",
            "INFO:tensorflow:loss = 3489.984, step = 901 (0.159 sec)\n",
            "INFO:tensorflow:global_step/sec: 602.422\n",
            "INFO:tensorflow:loss = 2804.96, step = 1001 (0.164 sec)\n",
            "INFO:tensorflow:global_step/sec: 577.063\n",
            "INFO:tensorflow:loss = 2316.1084, step = 1101 (0.175 sec)\n",
            "INFO:tensorflow:global_step/sec: 620.998\n",
            "INFO:tensorflow:loss = 2586.0513, step = 1201 (0.161 sec)\n",
            "INFO:tensorflow:global_step/sec: 625.832\n",
            "INFO:tensorflow:loss = 2490.1467, step = 1301 (0.160 sec)\n",
            "INFO:tensorflow:global_step/sec: 620.29\n",
            "INFO:tensorflow:loss = 3251.6743, step = 1401 (0.159 sec)\n",
            "INFO:tensorflow:global_step/sec: 646.735\n",
            "INFO:tensorflow:loss = 2847.612, step = 1501 (0.156 sec)\n",
            "INFO:tensorflow:global_step/sec: 583.814\n",
            "INFO:tensorflow:loss = 2384.8604, step = 1601 (0.171 sec)\n",
            "INFO:tensorflow:global_step/sec: 583.665\n",
            "INFO:tensorflow:loss = 2972.9248, step = 1701 (0.173 sec)\n",
            "INFO:tensorflow:global_step/sec: 594.854\n",
            "INFO:tensorflow:loss = 2757.7695, step = 1801 (0.168 sec)\n",
            "INFO:tensorflow:global_step/sec: 658.393\n",
            "INFO:tensorflow:loss = 2469.8403, step = 1901 (0.153 sec)\n",
            "INFO:tensorflow:global_step/sec: 653.627\n",
            "INFO:tensorflow:loss = 3438.8164, step = 2001 (0.153 sec)\n",
            "INFO:tensorflow:global_step/sec: 683.787\n",
            "INFO:tensorflow:loss = 2091.4211, step = 2101 (0.148 sec)\n",
            "INFO:tensorflow:global_step/sec: 600.331\n",
            "INFO:tensorflow:loss = 3290.284, step = 2201 (0.166 sec)\n",
            "INFO:tensorflow:global_step/sec: 599.558\n",
            "INFO:tensorflow:loss = 2026.1772, step = 2301 (0.165 sec)\n",
            "INFO:tensorflow:global_step/sec: 505.821\n",
            "INFO:tensorflow:loss = 3186.254, step = 2401 (0.199 sec)\n",
            "INFO:tensorflow:global_step/sec: 610.202\n",
            "INFO:tensorflow:loss = 2877.3433, step = 2501 (0.164 sec)\n",
            "INFO:tensorflow:global_step/sec: 609.658\n",
            "INFO:tensorflow:loss = 2951.5137, step = 2601 (0.163 sec)\n",
            "INFO:tensorflow:global_step/sec: 650.619\n",
            "INFO:tensorflow:loss = 3033.9282, step = 2701 (0.153 sec)\n",
            "INFO:tensorflow:global_step/sec: 617.789\n",
            "INFO:tensorflow:loss = 3370.8164, step = 2801 (0.159 sec)\n",
            "INFO:tensorflow:global_step/sec: 621.342\n",
            "INFO:tensorflow:loss = 3330.4766, step = 2901 (0.164 sec)\n",
            "INFO:tensorflow:global_step/sec: 599.02\n",
            "INFO:tensorflow:loss = 3242.1724, step = 3001 (0.164 sec)\n",
            "INFO:tensorflow:global_step/sec: 602.463\n",
            "INFO:tensorflow:loss = 2991.221, step = 3101 (0.166 sec)\n",
            "INFO:tensorflow:global_step/sec: 648.804\n",
            "INFO:tensorflow:loss = 2886.5286, step = 3201 (0.158 sec)\n",
            "INFO:tensorflow:global_step/sec: 631.105\n",
            "INFO:tensorflow:loss = 2335.2886, step = 3301 (0.159 sec)\n",
            "INFO:tensorflow:global_step/sec: 671.198\n",
            "INFO:tensorflow:loss = 3413.626, step = 3401 (0.146 sec)\n",
            "INFO:tensorflow:global_step/sec: 625.762\n",
            "INFO:tensorflow:loss = 2502.2617, step = 3501 (0.161 sec)\n",
            "INFO:tensorflow:global_step/sec: 573.057\n",
            "INFO:tensorflow:loss = 2900.7002, step = 3601 (0.173 sec)\n",
            "INFO:tensorflow:global_step/sec: 641.619\n",
            "INFO:tensorflow:loss = 2708.9778, step = 3701 (0.157 sec)\n",
            "INFO:tensorflow:global_step/sec: 673.173\n",
            "INFO:tensorflow:loss = 2703.5352, step = 3801 (0.146 sec)\n",
            "INFO:tensorflow:global_step/sec: 635.657\n",
            "INFO:tensorflow:loss = 2679.999, step = 3901 (0.160 sec)\n",
            "INFO:tensorflow:global_step/sec: 602.294\n",
            "INFO:tensorflow:loss = 3214.3496, step = 4001 (0.166 sec)\n",
            "INFO:tensorflow:global_step/sec: 612.354\n",
            "INFO:tensorflow:loss = 2791.162, step = 4101 (0.163 sec)\n",
            "INFO:tensorflow:global_step/sec: 628.574\n",
            "INFO:tensorflow:loss = 3300.1045, step = 4201 (0.159 sec)\n",
            "INFO:tensorflow:global_step/sec: 588.031\n",
            "INFO:tensorflow:loss = 2546.6475, step = 4301 (0.169 sec)\n",
            "INFO:tensorflow:global_step/sec: 645.415\n",
            "INFO:tensorflow:loss = 2043.1482, step = 4401 (0.157 sec)\n",
            "INFO:tensorflow:global_step/sec: 639.431\n",
            "INFO:tensorflow:loss = 1967.8535, step = 4501 (0.153 sec)\n",
            "INFO:tensorflow:global_step/sec: 650.029\n",
            "INFO:tensorflow:loss = 3804.307, step = 4601 (0.154 sec)\n",
            "INFO:tensorflow:global_step/sec: 642.047\n",
            "INFO:tensorflow:loss = 2281.9678, step = 4701 (0.159 sec)\n",
            "INFO:tensorflow:global_step/sec: 610.437\n",
            "INFO:tensorflow:loss = 3766.7322, step = 4801 (0.164 sec)\n",
            "INFO:tensorflow:global_step/sec: 606.434\n",
            "INFO:tensorflow:loss = 2700.3843, step = 4901 (0.163 sec)\n",
            "INFO:tensorflow:global_step/sec: 620.516\n",
            "INFO:tensorflow:loss = 2721.4229, step = 5001 (0.164 sec)\n",
            "INFO:tensorflow:global_step/sec: 603.492\n",
            "INFO:tensorflow:loss = 2780.133, step = 5101 (0.165 sec)\n",
            "INFO:tensorflow:global_step/sec: 652.895\n",
            "INFO:tensorflow:loss = 3101.5957, step = 5201 (0.151 sec)\n",
            "INFO:tensorflow:global_step/sec: 648.175\n",
            "INFO:tensorflow:loss = 2410.7305, step = 5301 (0.157 sec)\n",
            "INFO:tensorflow:global_step/sec: 608.305\n",
            "INFO:tensorflow:loss = 3328.9595, step = 5401 (0.163 sec)\n",
            "INFO:tensorflow:global_step/sec: 625.915\n",
            "INFO:tensorflow:loss = 3704.269, step = 5501 (0.161 sec)\n",
            "INFO:tensorflow:global_step/sec: 611.922\n",
            "INFO:tensorflow:loss = 3040.517, step = 5601 (0.162 sec)\n",
            "INFO:tensorflow:global_step/sec: 682.342\n",
            "INFO:tensorflow:loss = 2791.0776, step = 5701 (0.148 sec)\n",
            "INFO:tensorflow:global_step/sec: 651.529\n",
            "INFO:tensorflow:loss = 2329.6157, step = 5801 (0.153 sec)\n",
            "INFO:tensorflow:global_step/sec: 602.564\n",
            "INFO:tensorflow:loss = 3121.0393, step = 5901 (0.167 sec)\n",
            "INFO:tensorflow:global_step/sec: 622.711\n",
            "INFO:tensorflow:loss = 3200.107, step = 6001 (0.160 sec)\n",
            "INFO:tensorflow:global_step/sec: 645.223\n",
            "INFO:tensorflow:loss = 2518.7422, step = 6101 (0.155 sec)\n",
            "INFO:tensorflow:global_step/sec: 587.369\n",
            "INFO:tensorflow:loss = 3374.161, step = 6201 (0.168 sec)\n",
            "INFO:tensorflow:global_step/sec: 640.475\n",
            "INFO:tensorflow:loss = 2710.7517, step = 6301 (0.156 sec)\n",
            "INFO:tensorflow:global_step/sec: 658.637\n",
            "INFO:tensorflow:loss = 2280.8506, step = 6401 (0.154 sec)\n",
            "INFO:tensorflow:global_step/sec: 673.608\n",
            "INFO:tensorflow:loss = 3348.5403, step = 6501 (0.149 sec)\n",
            "INFO:tensorflow:global_step/sec: 613.725\n",
            "INFO:tensorflow:loss = 2927.925, step = 6601 (0.163 sec)\n",
            "INFO:tensorflow:global_step/sec: 616.726\n",
            "INFO:tensorflow:loss = 4284.3447, step = 6701 (0.163 sec)\n",
            "INFO:tensorflow:global_step/sec: 594.534\n",
            "INFO:tensorflow:loss = 3157.0159, step = 6801 (0.169 sec)\n",
            "INFO:tensorflow:global_step/sec: 641.536\n",
            "INFO:tensorflow:loss = 2735.3784, step = 6901 (0.155 sec)\n",
            "INFO:tensorflow:global_step/sec: 663.453\n",
            "INFO:tensorflow:loss = 2676.1604, step = 7001 (0.149 sec)\n",
            "INFO:tensorflow:global_step/sec: 665.461\n",
            "INFO:tensorflow:loss = 2307.104, step = 7101 (0.151 sec)\n",
            "INFO:tensorflow:global_step/sec: 597.361\n",
            "INFO:tensorflow:loss = 3495.3872, step = 7201 (0.169 sec)\n",
            "INFO:tensorflow:global_step/sec: 629.017\n",
            "INFO:tensorflow:loss = 3233.355, step = 7301 (0.158 sec)\n",
            "INFO:tensorflow:global_step/sec: 663.935\n",
            "INFO:tensorflow:loss = 3277.315, step = 7401 (0.148 sec)\n",
            "INFO:tensorflow:global_step/sec: 609.456\n",
            "INFO:tensorflow:loss = 2697.9612, step = 7501 (0.167 sec)\n",
            "INFO:tensorflow:global_step/sec: 617.759\n",
            "INFO:tensorflow:loss = 2598.2761, step = 7601 (0.162 sec)\n",
            "INFO:tensorflow:global_step/sec: 606.631\n",
            "INFO:tensorflow:loss = 3391.6592, step = 7701 (0.165 sec)\n",
            "INFO:tensorflow:global_step/sec: 576.838\n",
            "INFO:tensorflow:loss = 2557.084, step = 7801 (0.173 sec)\n",
            "INFO:tensorflow:global_step/sec: 651.914\n",
            "INFO:tensorflow:loss = 2657.0562, step = 7901 (0.154 sec)\n",
            "INFO:tensorflow:global_step/sec: 639.908\n",
            "INFO:tensorflow:loss = 2613.3499, step = 8001 (0.154 sec)\n",
            "INFO:tensorflow:global_step/sec: 593.905\n",
            "INFO:tensorflow:loss = 2726.9902, step = 8101 (0.170 sec)\n",
            "INFO:tensorflow:global_step/sec: 629.992\n",
            "INFO:tensorflow:loss = 3720.9482, step = 8201 (0.160 sec)\n",
            "INFO:tensorflow:global_step/sec: 621.736\n",
            "INFO:tensorflow:loss = 2828.5225, step = 8301 (0.160 sec)\n",
            "INFO:tensorflow:global_step/sec: 634.352\n",
            "INFO:tensorflow:loss = 2874.0789, step = 8401 (0.158 sec)\n",
            "INFO:tensorflow:global_step/sec: 663.365\n",
            "INFO:tensorflow:loss = 3090.0967, step = 8501 (0.148 sec)\n",
            "INFO:tensorflow:global_step/sec: 640.059\n",
            "INFO:tensorflow:loss = 2674.8545, step = 8601 (0.158 sec)\n",
            "INFO:tensorflow:global_step/sec: 540.453\n",
            "INFO:tensorflow:loss = 2869.7808, step = 8701 (0.185 sec)\n",
            "INFO:tensorflow:global_step/sec: 546.298\n",
            "INFO:tensorflow:loss = 2459.3877, step = 8801 (0.184 sec)\n",
            "INFO:tensorflow:global_step/sec: 619.749\n",
            "INFO:tensorflow:loss = 2824.287, step = 8901 (0.161 sec)\n",
            "INFO:tensorflow:global_step/sec: 599.354\n",
            "INFO:tensorflow:loss = 2194.126, step = 9001 (0.167 sec)\n",
            "INFO:tensorflow:global_step/sec: 617.173\n",
            "INFO:tensorflow:loss = 2248.0247, step = 9101 (0.161 sec)\n",
            "INFO:tensorflow:global_step/sec: 617.053\n",
            "INFO:tensorflow:loss = 3783.909, step = 9201 (0.163 sec)\n",
            "INFO:tensorflow:global_step/sec: 610.287\n",
            "INFO:tensorflow:loss = 2458.4531, step = 9301 (0.164 sec)\n",
            "INFO:tensorflow:global_step/sec: 620.895\n",
            "INFO:tensorflow:loss = 2280.2256, step = 9401 (0.162 sec)\n",
            "INFO:tensorflow:global_step/sec: 644.342\n",
            "INFO:tensorflow:loss = 2368.8452, step = 9501 (0.154 sec)\n",
            "INFO:tensorflow:global_step/sec: 618.718\n",
            "INFO:tensorflow:loss = 2644.123, step = 9601 (0.162 sec)\n",
            "INFO:tensorflow:global_step/sec: 617.181\n",
            "INFO:tensorflow:loss = 2725.1414, step = 9701 (0.162 sec)\n",
            "INFO:tensorflow:global_step/sec: 620.932\n",
            "INFO:tensorflow:loss = 2672.5989, step = 9801 (0.160 sec)\n",
            "INFO:tensorflow:global_step/sec: 621.546\n",
            "INFO:tensorflow:loss = 2741.8047, step = 9901 (0.162 sec)\n",
            "INFO:tensorflow:Saving checkpoints for 10000 into /tmp/dnnTDMaxMinSndpWeak5/model.ckpt.\n",
            "INFO:tensorflow:Loss for final step: 3485.6736.\n",
            "WARNING:tensorflow:float64 is not supported by many models, consider casting to float32.\n",
            "INFO:tensorflow:Graph was finalized.\n",
            "INFO:tensorflow:Restoring parameters from /tmp/dnnTDMaxMinSndpWeak5/model.ckpt-10000\n",
            "INFO:tensorflow:Running local_init_op.\n",
            "INFO:tensorflow:Done running local_init_op.\n",
            "DNNRegression has RMSE of 52.039292563043155\n",
            "Just using average = 728.2261194029851 has RMSE of 74.06077387142889\n"
          ]
        }
      ]
    },
    {
      "cell_type": "markdown",
      "source": [
        "Temp Dewp  \n",
        "Model 1 got a RMSE of 50.8933 | Using the average of 730.8933 it got an RMSE of 74.2303  \n",
        "Model 2 got a RMSE of 52.1847 | Using the average of 729.3500 it got an RMSE of 73.9598  \n",
        "Model 3 got a RMSE of 48.6036 | Using the average of 730.7246 it got an RMSE of 74.6153  \n",
        "Model 4 got a RMSE of 55.4727 | Using the average of 730.0030 it got an RMSE of 76.9963  \n",
        "Model 5 got an RMSE of 50.9003 | Using the average of 729.5030 it got an RMSE of 74.8641   \n",
        "  "
      ],
      "metadata": {
        "id": "FXNt0Re_VZZ9"
      }
    },
    {
      "cell_type": "markdown",
      "source": [
        "Temp Dewp Sndp  \n",
        "Model 1 got a RMSE of 51.3141 | Using the average of 730.9679 it got an RMSE of 78.9202  \n",
        "Model 2 got a RMSE of 55.0423 | Using the average of 730.8127 it got an RMSE of 80.8340  \n",
        "Model 3 got a RMSE of 52.2537 | Using the average of 728.5216 it got an RMSE of 73.0606  \n",
        "Model 4 got a RMSE of 50.6382 | Using the average of 731.3575 it got an RMSE of 75.6402  \n",
        "Model 5 got an RMSE of 51.0453 | Using the average of 730.5104 it got an RMSE of 76.9885   "
      ],
      "metadata": {
        "id": "iQ-t5I6naJ1L"
      }
    },
    {
      "cell_type": "markdown",
      "source": [
        "Temp Dewp Max Min  \n",
        "Model 1 got a RMSE of 54.0121 | Using the average of 728.6485 it got an RMSE of 77.2577  \n",
        "Model 2 got a RMSE of 55.6423 | Using the average of 730.0194 it got an RMSE of 76.3774  \n",
        "Model 3 got a RMSE of 54.5224 | Using the average of 730.4881 it got an RMSE of 77.0402  \n",
        "Model 4 got a RMSE of 55.9457 | Using the average of 731.0672 it got an RMSE of 77.3918  \n",
        "Model 5 got an RMSE of 53.3082 | Using the average of 729.7612 it got an RMSE of 74.2414   "
      ],
      "metadata": {
        "id": "CZNLeluNaKEJ"
      }
    },
    {
      "cell_type": "markdown",
      "source": [
        "Temp Dewp Max Min Sndp  \n",
        "Model 1 got a RMSE of 56.2222 | Using the average of 730.1619 it got an RMSE of 80.1506  \n",
        "Model 2 got a RMSE of 53.0295 | Using the average of 729.9164 it got an RMSE of 76.0492  \n",
        "Model 3 got a RMSE of 52.8752 | Using the average of 729.5216 it got an RMSE of 77.4147  \n",
        "Model 4 got a RMSE of 56.1189 | Using the average of 731.8918 it got an RMSE of 79.9833  \n",
        "Model 5 got an RMSE of 52.0393 | Using the average of 728.2261 it got an RMSE of 74.0608   "
      ],
      "metadata": {
        "id": "C_PSxBZwaKTA"
      }
    },
    {
      "cell_type": "code",
      "metadata": {
        "id": "3KxRETghymhV",
        "colab": {
          "base_uri": "https://localhost:8080/"
        },
        "outputId": "9e34717b-5b46-42dc-d5cb-45a2ca9167ef"
      },
      "source": [
        "# Creating a variable for the last 5% of the data that is easy to handle\n",
        "input = predictors[testsize + trainsize:]\n",
        "\n",
        "# Different Data sets\n",
        "# dnnTDWeak\n",
        "# dnnTDSnowWeak\n",
        "# dnnTDMaxMinWeak\n",
        "# dnnTDMaxMinSndpWeak\n",
        "# Boilerplate for creating the estimator\n",
        "estimator = tf.contrib.learn.SKCompat(tf.contrib.learn.DNNRegressor(model_dir='/tmp/dnnTDMaxMinSndpWeak5', hidden_units=[20,18,14], enable_centered_bias=False, feature_columns=tf.contrib.learn.infer_real_valued_columns_from_input(input.values)))\n",
        "\n",
        "# Predicting the values \n",
        "preds = estimator.predict(x=input.values)\n",
        "\n",
        "# Creating a list of predictions \n",
        "predslist = preds['scores']*SCALE_NUM_TRIPS\n",
        "\n",
        "# Creating the RMSE by comparing the targets to the list of predictions\n",
        "rmse = np.sqrt(np.mean((targets[testsize + trainsize:].values - predslist)**2))\n",
        "\n",
        "# Calculate the mean of the Number of Crimes Values.\n",
        "avg = np.mean(shuffle['NUM_CRIMES'][testsize + trainsize:])\n",
        "\n",
        "print()\n",
        "# Printing the rmse and average crimes\n",
        "print('DNNRegression has RMSE of {0}'.format(rmse));\n",
        "print('Average is {0}'.format(avg))\n"
      ],
      "execution_count": 329,
      "outputs": [
        {
          "output_type": "stream",
          "name": "stdout",
          "text": [
            "WARNING:tensorflow:float64 is not supported by many models, consider casting to float32.\n",
            "INFO:tensorflow:Using default config.\n",
            "INFO:tensorflow:Using config: {'_task_type': None, '_task_id': 0, '_cluster_spec': <tensorflow.python.training.server_lib.ClusterSpec object at 0x7fe8f7a54210>, '_master': '', '_num_ps_replicas': 0, '_num_worker_replicas': 0, '_environment': 'local', '_is_chief': True, '_evaluation_master': '', '_train_distribute': None, '_eval_distribute': None, '_experimental_max_worker_delay_secs': None, '_device_fn': None, '_tf_config': gpu_options {\n",
            "  per_process_gpu_memory_fraction: 1.0\n",
            "}\n",
            ", '_tf_random_seed': None, '_save_summary_steps': 100, '_save_checkpoints_secs': 600, '_log_step_count_steps': 100, '_protocol': None, '_session_config': None, '_save_checkpoints_steps': None, '_keep_checkpoint_max': 5, '_keep_checkpoint_every_n_hours': 10000, '_model_dir': '/tmp/dnnTDMaxMinSndpWeak5', '_session_creation_timeout_secs': 7200}\n",
            "WARNING:tensorflow:float64 is not supported by many models, consider casting to float32.\n",
            "INFO:tensorflow:Graph was finalized.\n",
            "INFO:tensorflow:Restoring parameters from /tmp/dnnTDMaxMinSndpWeak5/model.ckpt-10000\n",
            "INFO:tensorflow:Running local_init_op.\n",
            "INFO:tensorflow:Done running local_init_op.\n",
            "\n",
            "DNNRegression has RMSE of 47.57803223267286\n",
            "Average is 736.8888888888889\n"
          ]
        }
      ]
    },
    {
      "cell_type": "markdown",
      "metadata": {
        "id": "lalzD8Gb2S6G"
      },
      "source": [
        "Temp Dewp  \n",
        "Model 1 got a RMSE of 47.6594  \n",
        "Model 2 got a RMSE of 45.0424  \n",
        "Model 3 got a RMSE of 45.6783  \n",
        "Model 4 got a RMSE of 45.9276  \n",
        "Model 5 got an RMSE of 51.5507  "
      ]
    },
    {
      "cell_type": "markdown",
      "source": [
        "Temp Dewp Sndp  \n",
        "Model 1 got a RMSE of 57.2909  \n",
        "Model 2 got a RMSE of 48.3006  \n",
        "Model 3 got a RMSE of 51.9503  \n",
        "Model 4 got a RMSE of 50.2763  \n",
        "Model 5 got an RMSE of 47.1352   "
      ],
      "metadata": {
        "id": "qA5oUkBglmpD"
      }
    },
    {
      "cell_type": "markdown",
      "source": [
        "Temp Dewp Max Min  \n",
        "Model 1 got a RMSE of 54.5355  \n",
        "Model 2 got a RMSE of 54.1363  \n",
        "Model 3 got a RMSE of 55.5408  \n",
        "Model 4 got a RMSE of 55.8568  \n",
        "Model 5 got an RMSE of 49.4387   \n"
      ],
      "metadata": {
        "id": "oWJK1wPilm4I"
      }
    },
    {
      "cell_type": "markdown",
      "source": [
        "Temp Dewp Max Min Sndp  \n",
        "Model 1 got a RMSE of 47.6700  \n",
        "Model 2 got a RMSE of 52.4114  \n",
        "Model 3 got a RMSE of 54.5940  \n",
        "Model 4 got a RMSE of 58.0916  \n",
        "Model 5 got an RMSE of 47.5780   "
      ],
      "metadata": {
        "id": "kBe9EOxMlnHZ"
      }
    }
  ]
}