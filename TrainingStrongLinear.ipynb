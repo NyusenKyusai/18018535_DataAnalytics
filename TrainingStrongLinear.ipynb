{
  "nbformat": 4,
  "nbformat_minor": 0,
  "metadata": {
    "colab": {
      "name": "TrainingStrongLinear.ipynb",
      "provenance": [],
      "collapsed_sections": [],
      "include_colab_link": true
    },
    "kernelspec": {
      "name": "python3",
      "display_name": "Python 3"
    }
  },
  "cells": [
    {
      "cell_type": "markdown",
      "metadata": {
        "id": "view-in-github",
        "colab_type": "text"
      },
      "source": [
        "<a href=\"https://colab.research.google.com/github/NyusenKyusai/18018535_DataAnalytics/blob/main/TrainingStrongLinear.ipynb\" target=\"_parent\"><img src=\"https://colab.research.google.com/assets/colab-badge.svg\" alt=\"Open In Colab\"/></a>"
      ]
    },
    {
      "cell_type": "markdown",
      "metadata": {
        "id": "4w9sEQx-NFJv"
      },
      "source": [
        "Here I will creating a model with the dataset that is temperature, dew point, and has the strong outliers removed."
      ]
    },
    {
      "cell_type": "code",
      "metadata": {
        "id": "2p-7cPGENClE"
      },
      "source": [
        "# needed to create the data frame\n",
        "import pandas as pd\n",
        "\n",
        "# create data frame from csv file we hosted on our github\n",
        "df1 = pd.read_csv('https://raw.githubusercontent.com/NyusenKyusai/18018535_DataAnalytics/main/linearTDStrong.csv', index_col=0, )\n",
        "df2 = pd.read_csv('https://raw.githubusercontent.com/NyusenKyusai/18018535_DataAnalytics/main/linearTDSnowStrong.csv', index_col=0, )\n",
        "df3 = pd.read_csv('https://raw.githubusercontent.com/NyusenKyusai/18018535_DataAnalytics/main/linearTDMaxMinStrong.csv', index_col=0, )\n",
        "df4 = pd.read_csv('https://raw.githubusercontent.com/NyusenKyusai/18018535_DataAnalytics/main/linearTDMaxMinSnowStrong.csv', index_col=0, )"
      ],
      "execution_count": 1,
      "outputs": []
    },
    {
      "cell_type": "code",
      "metadata": {
        "id": "DEw-Y4JWNkh1",
        "outputId": "dfc46b91-b72d-4994-d694-c9a8f522f366",
        "colab": {
          "base_uri": "https://localhost:8080/"
        }
      },
      "source": [
        "# make sure we have our data by printing it out\n",
        "print(df1[:6])"
      ],
      "execution_count": 3,
      "outputs": [
        {
          "output_type": "stream",
          "name": "stdout",
          "text": [
            "   temp  dewp  NUM_CRIMES\n",
            "2  25.7  16.0         674\n",
            "3  31.5  27.0         648\n",
            "4  29.0  26.1         514\n",
            "5   2.2  -7.4         523\n",
            "6   5.3  -0.9         503\n",
            "7   3.1  -7.6         474\n"
          ]
        }
      ]
    },
    {
      "cell_type": "code",
      "metadata": {
        "id": "U4FV9fPUOkvw",
        "outputId": "e153a022-3dc3-4a56-9c08-a328daaee74f",
        "colab": {
          "base_uri": "https://localhost:8080/"
        }
      },
      "source": [
        "# needed to help with speedy maths based calculations\n",
        "import numpy as np\n",
        "\n",
        "# iloc allows us to select by rows. Here, we are shuffling the data by rows determined at random.\n",
        "shuffle = df4.iloc[np.random.permutation(len(df4))]\n",
        "\n",
        "# df1 = 2\n",
        "# df1 = 3\n",
        "# df1 = 4\n",
        "# df1 = 5\n",
        "# we are selecting all rows of the columns outliined i.e. The 3rd (2 as indexes start from 0)\n",
        "predictors = shuffle.iloc[:,0:5]\n",
        "\n",
        "# print out the first 6 rows of predictors.\n",
        "print(predictors[:6])"
      ],
      "execution_count": 146,
      "outputs": [
        {
          "output_type": "stream",
          "name": "stdout",
          "text": [
            "      temp  dewp   max   min  sndp\n",
            "398   34.5  31.6  45.0  30.0   0.0\n",
            "435   49.0  40.9  63.0  45.0   0.0\n",
            "22    29.9  22.7  33.1  28.0   0.0\n",
            "535   74.3  51.2  87.1  57.9   0.0\n",
            "1540  41.7  33.2  48.9  30.2   0.0\n",
            "1824  51.9  49.0  57.2  44.1   0.0\n"
          ]
        }
      ]
    },
    {
      "cell_type": "code",
      "metadata": {
        "id": "v-gahQCyO6BJ",
        "outputId": "083e07dc-8589-4351-ab4c-8b20f7dc3e31",
        "colab": {
          "base_uri": "https://localhost:8080/",
          "height": 206
        }
      },
      "source": [
        "# print out the shuffled data (first 5 rows)\n",
        "shuffle[:5]"
      ],
      "execution_count": 147,
      "outputs": [
        {
          "output_type": "execute_result",
          "data": {
            "text/plain": [
              "      temp  dewp   max   min  sndp  NUM_CRIMES\n",
              "398   34.5  31.6  45.0  30.0   0.0         614\n",
              "435   49.0  40.9  63.0  45.0   0.0         716\n",
              "22    29.9  22.7  33.1  28.0   0.0         752\n",
              "535   74.3  51.2  87.1  57.9   0.0         763\n",
              "1540  41.7  33.2  48.9  30.2   0.0         693"
            ],
            "text/html": [
              "\n",
              "  <div id=\"df-027b5c55-049a-447f-82b2-24dcf9b2f0eb\">\n",
              "    <div class=\"colab-df-container\">\n",
              "      <div>\n",
              "<style scoped>\n",
              "    .dataframe tbody tr th:only-of-type {\n",
              "        vertical-align: middle;\n",
              "    }\n",
              "\n",
              "    .dataframe tbody tr th {\n",
              "        vertical-align: top;\n",
              "    }\n",
              "\n",
              "    .dataframe thead th {\n",
              "        text-align: right;\n",
              "    }\n",
              "</style>\n",
              "<table border=\"1\" class=\"dataframe\">\n",
              "  <thead>\n",
              "    <tr style=\"text-align: right;\">\n",
              "      <th></th>\n",
              "      <th>temp</th>\n",
              "      <th>dewp</th>\n",
              "      <th>max</th>\n",
              "      <th>min</th>\n",
              "      <th>sndp</th>\n",
              "      <th>NUM_CRIMES</th>\n",
              "    </tr>\n",
              "  </thead>\n",
              "  <tbody>\n",
              "    <tr>\n",
              "      <th>398</th>\n",
              "      <td>34.5</td>\n",
              "      <td>31.6</td>\n",
              "      <td>45.0</td>\n",
              "      <td>30.0</td>\n",
              "      <td>0.0</td>\n",
              "      <td>614</td>\n",
              "    </tr>\n",
              "    <tr>\n",
              "      <th>435</th>\n",
              "      <td>49.0</td>\n",
              "      <td>40.9</td>\n",
              "      <td>63.0</td>\n",
              "      <td>45.0</td>\n",
              "      <td>0.0</td>\n",
              "      <td>716</td>\n",
              "    </tr>\n",
              "    <tr>\n",
              "      <th>22</th>\n",
              "      <td>29.9</td>\n",
              "      <td>22.7</td>\n",
              "      <td>33.1</td>\n",
              "      <td>28.0</td>\n",
              "      <td>0.0</td>\n",
              "      <td>752</td>\n",
              "    </tr>\n",
              "    <tr>\n",
              "      <th>535</th>\n",
              "      <td>74.3</td>\n",
              "      <td>51.2</td>\n",
              "      <td>87.1</td>\n",
              "      <td>57.9</td>\n",
              "      <td>0.0</td>\n",
              "      <td>763</td>\n",
              "    </tr>\n",
              "    <tr>\n",
              "      <th>1540</th>\n",
              "      <td>41.7</td>\n",
              "      <td>33.2</td>\n",
              "      <td>48.9</td>\n",
              "      <td>30.2</td>\n",
              "      <td>0.0</td>\n",
              "      <td>693</td>\n",
              "    </tr>\n",
              "  </tbody>\n",
              "</table>\n",
              "</div>\n",
              "      <button class=\"colab-df-convert\" onclick=\"convertToInteractive('df-027b5c55-049a-447f-82b2-24dcf9b2f0eb')\"\n",
              "              title=\"Convert this dataframe to an interactive table.\"\n",
              "              style=\"display:none;\">\n",
              "        \n",
              "  <svg xmlns=\"http://www.w3.org/2000/svg\" height=\"24px\"viewBox=\"0 0 24 24\"\n",
              "       width=\"24px\">\n",
              "    <path d=\"M0 0h24v24H0V0z\" fill=\"none\"/>\n",
              "    <path d=\"M18.56 5.44l.94 2.06.94-2.06 2.06-.94-2.06-.94-.94-2.06-.94 2.06-2.06.94zm-11 1L8.5 8.5l.94-2.06 2.06-.94-2.06-.94L8.5 2.5l-.94 2.06-2.06.94zm10 10l.94 2.06.94-2.06 2.06-.94-2.06-.94-.94-2.06-.94 2.06-2.06.94z\"/><path d=\"M17.41 7.96l-1.37-1.37c-.4-.4-.92-.59-1.43-.59-.52 0-1.04.2-1.43.59L10.3 9.45l-7.72 7.72c-.78.78-.78 2.05 0 2.83L4 21.41c.39.39.9.59 1.41.59.51 0 1.02-.2 1.41-.59l7.78-7.78 2.81-2.81c.8-.78.8-2.07 0-2.86zM5.41 20L4 18.59l7.72-7.72 1.47 1.35L5.41 20z\"/>\n",
              "  </svg>\n",
              "      </button>\n",
              "      \n",
              "  <style>\n",
              "    .colab-df-container {\n",
              "      display:flex;\n",
              "      flex-wrap:wrap;\n",
              "      gap: 12px;\n",
              "    }\n",
              "\n",
              "    .colab-df-convert {\n",
              "      background-color: #E8F0FE;\n",
              "      border: none;\n",
              "      border-radius: 50%;\n",
              "      cursor: pointer;\n",
              "      display: none;\n",
              "      fill: #1967D2;\n",
              "      height: 32px;\n",
              "      padding: 0 0 0 0;\n",
              "      width: 32px;\n",
              "    }\n",
              "\n",
              "    .colab-df-convert:hover {\n",
              "      background-color: #E2EBFA;\n",
              "      box-shadow: 0px 1px 2px rgba(60, 64, 67, 0.3), 0px 1px 3px 1px rgba(60, 64, 67, 0.15);\n",
              "      fill: #174EA6;\n",
              "    }\n",
              "\n",
              "    [theme=dark] .colab-df-convert {\n",
              "      background-color: #3B4455;\n",
              "      fill: #D2E3FC;\n",
              "    }\n",
              "\n",
              "    [theme=dark] .colab-df-convert:hover {\n",
              "      background-color: #434B5C;\n",
              "      box-shadow: 0px 1px 3px 1px rgba(0, 0, 0, 0.15);\n",
              "      filter: drop-shadow(0px 1px 2px rgba(0, 0, 0, 0.3));\n",
              "      fill: #FFFFFF;\n",
              "    }\n",
              "  </style>\n",
              "\n",
              "      <script>\n",
              "        const buttonEl =\n",
              "          document.querySelector('#df-027b5c55-049a-447f-82b2-24dcf9b2f0eb button.colab-df-convert');\n",
              "        buttonEl.style.display =\n",
              "          google.colab.kernel.accessAllowed ? 'block' : 'none';\n",
              "\n",
              "        async function convertToInteractive(key) {\n",
              "          const element = document.querySelector('#df-027b5c55-049a-447f-82b2-24dcf9b2f0eb');\n",
              "          const dataTable =\n",
              "            await google.colab.kernel.invokeFunction('convertToInteractive',\n",
              "                                                     [key], {});\n",
              "          if (!dataTable) return;\n",
              "\n",
              "          const docLinkHtml = 'Like what you see? Visit the ' +\n",
              "            '<a target=\"_blank\" href=https://colab.research.google.com/notebooks/data_table.ipynb>data table notebook</a>'\n",
              "            + ' to learn more about interactive tables.';\n",
              "          element.innerHTML = '';\n",
              "          dataTable['output_type'] = 'display_data';\n",
              "          await google.colab.output.renderOutput(dataTable, element);\n",
              "          const docLink = document.createElement('div');\n",
              "          docLink.innerHTML = docLinkHtml;\n",
              "          element.appendChild(docLink);\n",
              "        }\n",
              "      </script>\n",
              "    </div>\n",
              "  </div>\n",
              "  "
            ]
          },
          "metadata": {},
          "execution_count": 147
        }
      ]
    },
    {
      "cell_type": "code",
      "metadata": {
        "id": "hceMJGRGPPbl",
        "outputId": "b2f7d3e7-c6da-4727-8b20-ca6a6af0c502",
        "colab": {
          "base_uri": "https://localhost:8080/"
        }
      },
      "source": [
        "# Select all rows for the 2nd column (i.e. 1)\n",
        "targets = shuffle.iloc[:,-1]\n",
        "\n",
        "# print out the first 6 rows of the targets data.\n",
        "print(targets[:6])"
      ],
      "execution_count": 148,
      "outputs": [
        {
          "output_type": "stream",
          "name": "stdout",
          "text": [
            "398     614\n",
            "435     716\n",
            "22      752\n",
            "535     763\n",
            "1540    693\n",
            "1824    689\n",
            "Name: NUM_CRIMES, dtype: int64\n"
          ]
        }
      ]
    },
    {
      "cell_type": "code",
      "metadata": {
        "id": "vTMxwMfGPdWJ"
      },
      "source": [
        "# A scale is not required here, but the constant will be useful in the assignment.\n",
        "SCALE_NUM_TRIPS = 1.0"
      ],
      "execution_count": 149,
      "outputs": []
    },
    {
      "cell_type": "code",
      "metadata": {
        "id": "xbgNNZYkPkCA"
      },
      "source": [
        "# Split our data into a training set i.e. 75% of the length of the shuffle array\n",
        "trainsize = int(len(shuffle['NUM_CRIMES'])*0.75)\n",
        "# Split our data into a test set i.e. 20% of the length of the shuffle array\n",
        "testsize = int(len(shuffle['NUM_CRIMES'])*0.2)\n",
        "# The final test set size is 100% - 75% - 20% = 5% of the length of the shuffle array.\n",
        "finaltestsize = len(shuffle['NUM_CRIMES']) - trainsize - testsize\n",
        "\n",
        "# Define the number of input values (predictors)\n",
        "nppredictors = 5\n",
        "# Define the number of output values (targets)\n",
        "noutputs = 1"
      ],
      "execution_count": 150,
      "outputs": []
    },
    {
      "cell_type": "code",
      "metadata": {
        "id": "maFRZkDkQdpA",
        "outputId": "be5a08df-d7b0-4920-af69-cb197116e86b",
        "colab": {
          "base_uri": "https://localhost:8080/"
        }
      },
      "source": [
        "# import tensorflow\n",
        "%tensorflow_version 1.x\n",
        "import tensorflow as tf\n",
        "\n",
        "# check the version\n",
        "print(tf.__version__)\n",
        "\n",
        "# needed for high-level file management\n",
        "import shutil  \n",
        "\n",
        "# logging for tensorflow\n",
        "tf.compat.v1.logging.set_verbosity(tf.compat.v1.logging.INFO)\n",
        "\n",
        "# removes a saved model from the last training attempt.\n",
        "# linearTDStrong\n",
        "# linearTDSnowStrong\n",
        "# linearTDMaxMinStrong\n",
        "# linearTDMaxMinSnowStrong\n",
        "shutil.rmtree('/tmp/linearTDMaxMinSnowStrong5', ignore_errors=True)\n",
        "\n",
        "# This is the core of our linear regressor\n",
        "\n",
        "# You can see that we save the model, use the the Adam optimization algorithm, which is an extension \n",
        "# to stochastic gradient descent that has recently seen broader adoption for deep learning applications \n",
        "# in computer vision and natural language processing and infer real valued columns from input which interprets \n",
        "# all inputs as dense, fixed-length float values.\n",
        "\n",
        "# See the link for more information\n",
        "# https://www.tensorflow.org/versions/r1.15/api_docs/python/tf/contrib/learn/LinearRegressor\n",
        "estimator = tf.contrib.learn.SKCompat(tf.contrib.learn.LinearRegressor(model_dir='/tmp/linearTDMaxMinSnowStrong5', optimizer=tf.train.AdamOptimizer(learning_rate=0.1), enable_centered_bias=False, feature_columns=tf.contrib.learn.infer_real_valued_columns_from_input(predictors.values)))\n",
        "\n",
        "# Prints a log to show model is starting to train\n",
        "print(\"starting to train\");\n",
        "\n",
        "# Train the model. Pass in predictor values and target values.\n",
        "estimator.fit(predictors[:trainsize].values, targets[:trainsize].values.reshape(trainsize, noutputs)/SCALE_NUM_TRIPS, steps=10000)\n",
        "\n",
        "# Next, we can check our predictions based on our predictors.\n",
        "# It goes from trainsize to testsize + trainsize to keep the last 5% out of the model\n",
        "# We can test with the last 5% later\n",
        "preds = estimator.predict(x=predictors[trainsize:testsize + trainsize].values)\n",
        "\n",
        "# Apply the Scale value (not really needed here) to the outputs.\n",
        "predslistscale = preds['scores']*SCALE_NUM_TRIPS\n",
        "\n",
        "# pred = format(str(predslistscale)) # useful for checking outputs and printing.\n",
        "\n",
        "# Calculate RMSE i.e. how good the model works using the predictions and targets.\n",
        "# i.e. take the difference between the actual and the forecast then square the difference, \n",
        "# find the average of all the squares and then find the square root. \n",
        "# The RMSE essentially punishes larger errors i.e. it puts a heavier weight on larger errors.\n",
        "rmse = np.sqrt(np.mean((targets[trainsize:testsize + trainsize].values - predslistscale)**2))\n",
        "print('LinearRegression has RMSE of {0}'.format(rmse));\n",
        "\n",
        "\n",
        "# Calculate the mean of the Number of Crimes Values.\n",
        "avg = np.mean(shuffle['NUM_CRIMES'][:trainsize])\n",
        "\n",
        "# Calculate the RMSE using Number of Crimes Values and the mean of all target values.\n",
        "# The fit of a proposed regression model should therefore be better than the fit of the mean model.\n",
        "# In this case, it doesn't seem to be the case but it will vary on every run.\n",
        "rmse = np.sqrt(np.mean((shuffle['NUM_CRIMES'][trainsize:testsize + trainsize] - avg)**2))\n",
        "print('Just using average = {0} has RMSE of {1}'.format(avg, rmse));"
      ],
      "execution_count": 151,
      "outputs": [
        {
          "output_type": "stream",
          "name": "stdout",
          "text": [
            "1.15.2\n",
            "WARNING:tensorflow:float64 is not supported by many models, consider casting to float32.\n",
            "INFO:tensorflow:Using default config.\n",
            "INFO:tensorflow:Using config: {'_task_type': None, '_task_id': 0, '_cluster_spec': <tensorflow.python.training.server_lib.ClusterSpec object at 0x7f4f07ac7390>, '_master': '', '_num_ps_replicas': 0, '_num_worker_replicas': 0, '_environment': 'local', '_is_chief': True, '_evaluation_master': '', '_train_distribute': None, '_eval_distribute': None, '_experimental_max_worker_delay_secs': None, '_device_fn': None, '_tf_config': gpu_options {\n",
            "  per_process_gpu_memory_fraction: 1.0\n",
            "}\n",
            ", '_tf_random_seed': None, '_save_summary_steps': 100, '_save_checkpoints_secs': 600, '_log_step_count_steps': 100, '_protocol': None, '_session_config': None, '_save_checkpoints_steps': None, '_keep_checkpoint_max': 5, '_keep_checkpoint_every_n_hours': 10000, '_model_dir': '/tmp/linearTDMaxMinSnowStrong5', '_session_creation_timeout_secs': 7200}\n",
            "starting to train\n",
            "WARNING:tensorflow:float64 is not supported by many models, consider casting to float32.\n",
            "WARNING:tensorflow:float64 is not supported by many models, consider casting to float32.\n",
            "INFO:tensorflow:Create CheckpointSaverHook.\n",
            "INFO:tensorflow:Graph was finalized.\n",
            "INFO:tensorflow:Running local_init_op.\n",
            "INFO:tensorflow:Done running local_init_op.\n",
            "INFO:tensorflow:Saving checkpoints for 0 into /tmp/linearTDMaxMinSnowStrong5/model.ckpt.\n",
            "INFO:tensorflow:loss = 546092.9, step = 1\n",
            "INFO:tensorflow:global_step/sec: 395.236\n",
            "INFO:tensorflow:loss = 38752.258, step = 101 (0.258 sec)\n",
            "INFO:tensorflow:global_step/sec: 277.856\n",
            "INFO:tensorflow:loss = 40827.4, step = 201 (0.360 sec)\n",
            "INFO:tensorflow:global_step/sec: 532.231\n",
            "INFO:tensorflow:loss = 36715.918, step = 301 (0.186 sec)\n",
            "INFO:tensorflow:global_step/sec: 1038.97\n",
            "INFO:tensorflow:loss = 29077.992, step = 401 (0.099 sec)\n",
            "INFO:tensorflow:global_step/sec: 911.698\n",
            "INFO:tensorflow:loss = 29460.637, step = 501 (0.109 sec)\n",
            "INFO:tensorflow:global_step/sec: 1027.83\n",
            "INFO:tensorflow:loss = 29702.02, step = 601 (0.097 sec)\n",
            "INFO:tensorflow:global_step/sec: 1030.61\n",
            "INFO:tensorflow:loss = 26579.682, step = 701 (0.095 sec)\n",
            "INFO:tensorflow:global_step/sec: 987.881\n",
            "INFO:tensorflow:loss = 27282.582, step = 801 (0.105 sec)\n",
            "INFO:tensorflow:global_step/sec: 944.761\n",
            "INFO:tensorflow:loss = 26031.375, step = 901 (0.103 sec)\n",
            "INFO:tensorflow:global_step/sec: 954.705\n",
            "INFO:tensorflow:loss = 23056.254, step = 1001 (0.105 sec)\n",
            "INFO:tensorflow:global_step/sec: 890.894\n",
            "INFO:tensorflow:loss = 20160.855, step = 1101 (0.114 sec)\n",
            "INFO:tensorflow:global_step/sec: 1020.99\n",
            "INFO:tensorflow:loss = 24335.445, step = 1201 (0.096 sec)\n",
            "INFO:tensorflow:global_step/sec: 947.527\n",
            "INFO:tensorflow:loss = 24000.248, step = 1301 (0.106 sec)\n",
            "INFO:tensorflow:global_step/sec: 1021.94\n",
            "INFO:tensorflow:loss = 17858.365, step = 1401 (0.097 sec)\n",
            "INFO:tensorflow:global_step/sec: 986.199\n",
            "INFO:tensorflow:loss = 24285.096, step = 1501 (0.102 sec)\n",
            "INFO:tensorflow:global_step/sec: 1049.17\n",
            "INFO:tensorflow:loss = 27375.303, step = 1601 (0.094 sec)\n",
            "INFO:tensorflow:global_step/sec: 978.715\n",
            "INFO:tensorflow:loss = 19078.941, step = 1701 (0.105 sec)\n",
            "INFO:tensorflow:global_step/sec: 1015.76\n",
            "INFO:tensorflow:loss = 22821.496, step = 1801 (0.096 sec)\n",
            "INFO:tensorflow:global_step/sec: 984.951\n",
            "INFO:tensorflow:loss = 22038.879, step = 1901 (0.104 sec)\n",
            "INFO:tensorflow:global_step/sec: 902.521\n",
            "INFO:tensorflow:loss = 22933.756, step = 2001 (0.108 sec)\n",
            "INFO:tensorflow:global_step/sec: 1017.32\n",
            "INFO:tensorflow:loss = 14759.949, step = 2101 (0.100 sec)\n",
            "INFO:tensorflow:global_step/sec: 1002.25\n",
            "INFO:tensorflow:loss = 21988.592, step = 2201 (0.100 sec)\n",
            "INFO:tensorflow:global_step/sec: 1013.49\n",
            "INFO:tensorflow:loss = 13940.844, step = 2301 (0.099 sec)\n",
            "INFO:tensorflow:global_step/sec: 993.982\n",
            "INFO:tensorflow:loss = 16090.293, step = 2401 (0.098 sec)\n",
            "INFO:tensorflow:global_step/sec: 1049.54\n",
            "INFO:tensorflow:loss = 23061.008, step = 2501 (0.095 sec)\n",
            "INFO:tensorflow:global_step/sec: 1007.22\n",
            "INFO:tensorflow:loss = 14389.898, step = 2601 (0.099 sec)\n",
            "INFO:tensorflow:global_step/sec: 1052.19\n",
            "INFO:tensorflow:loss = 16527.166, step = 2701 (0.095 sec)\n",
            "INFO:tensorflow:global_step/sec: 977.99\n",
            "INFO:tensorflow:loss = 16454.113, step = 2801 (0.102 sec)\n",
            "INFO:tensorflow:global_step/sec: 983.98\n",
            "INFO:tensorflow:loss = 15242.488, step = 2901 (0.105 sec)\n",
            "INFO:tensorflow:global_step/sec: 905.272\n",
            "INFO:tensorflow:loss = 12056.787, step = 3001 (0.107 sec)\n",
            "INFO:tensorflow:global_step/sec: 1002.75\n",
            "INFO:tensorflow:loss = 16353.365, step = 3101 (0.103 sec)\n",
            "INFO:tensorflow:global_step/sec: 992.293\n",
            "INFO:tensorflow:loss = 17379.79, step = 3201 (0.098 sec)\n",
            "INFO:tensorflow:global_step/sec: 958.389\n",
            "INFO:tensorflow:loss = 13272.062, step = 3301 (0.107 sec)\n",
            "INFO:tensorflow:global_step/sec: 996.302\n",
            "INFO:tensorflow:loss = 13209.357, step = 3401 (0.098 sec)\n",
            "INFO:tensorflow:global_step/sec: 973.757\n",
            "INFO:tensorflow:loss = 12757.541, step = 3501 (0.105 sec)\n",
            "INFO:tensorflow:global_step/sec: 1041.24\n",
            "INFO:tensorflow:loss = 14318.116, step = 3601 (0.093 sec)\n",
            "INFO:tensorflow:global_step/sec: 1012.31\n",
            "INFO:tensorflow:loss = 12235.76, step = 3701 (0.101 sec)\n",
            "INFO:tensorflow:global_step/sec: 954.448\n",
            "INFO:tensorflow:loss = 10990.441, step = 3801 (0.102 sec)\n",
            "INFO:tensorflow:global_step/sec: 998.974\n",
            "INFO:tensorflow:loss = 14186.743, step = 3901 (0.101 sec)\n",
            "INFO:tensorflow:global_step/sec: 968.418\n",
            "INFO:tensorflow:loss = 11768.12, step = 4001 (0.106 sec)\n",
            "INFO:tensorflow:global_step/sec: 952.465\n",
            "INFO:tensorflow:loss = 11615.178, step = 4101 (0.105 sec)\n",
            "INFO:tensorflow:global_step/sec: 1002.34\n",
            "INFO:tensorflow:loss = 9260.663, step = 4201 (0.100 sec)\n",
            "INFO:tensorflow:global_step/sec: 964.086\n",
            "INFO:tensorflow:loss = 11418.956, step = 4301 (0.101 sec)\n",
            "INFO:tensorflow:global_step/sec: 1004.02\n",
            "INFO:tensorflow:loss = 9851.617, step = 4401 (0.102 sec)\n",
            "INFO:tensorflow:global_step/sec: 1007.87\n",
            "INFO:tensorflow:loss = 10647.83, step = 4501 (0.097 sec)\n",
            "INFO:tensorflow:global_step/sec: 981.985\n",
            "INFO:tensorflow:loss = 8937.783, step = 4601 (0.104 sec)\n",
            "INFO:tensorflow:global_step/sec: 992.93\n",
            "INFO:tensorflow:loss = 8177.0225, step = 4701 (0.101 sec)\n",
            "INFO:tensorflow:global_step/sec: 967.163\n",
            "INFO:tensorflow:loss = 8376.74, step = 4801 (0.104 sec)\n",
            "INFO:tensorflow:global_step/sec: 1019\n",
            "INFO:tensorflow:loss = 9332.848, step = 4901 (0.095 sec)\n",
            "INFO:tensorflow:global_step/sec: 916.111\n",
            "INFO:tensorflow:loss = 8139.309, step = 5001 (0.110 sec)\n",
            "INFO:tensorflow:global_step/sec: 994.262\n",
            "INFO:tensorflow:loss = 8113.3477, step = 5101 (0.100 sec)\n",
            "INFO:tensorflow:global_step/sec: 996.151\n",
            "INFO:tensorflow:loss = 8396.634, step = 5201 (0.102 sec)\n",
            "INFO:tensorflow:global_step/sec: 1001.47\n",
            "INFO:tensorflow:loss = 9660.822, step = 5301 (0.100 sec)\n",
            "INFO:tensorflow:global_step/sec: 980.099\n",
            "INFO:tensorflow:loss = 7667.4854, step = 5401 (0.099 sec)\n",
            "INFO:tensorflow:global_step/sec: 1058.2\n",
            "INFO:tensorflow:loss = 8210.755, step = 5501 (0.095 sec)\n",
            "INFO:tensorflow:global_step/sec: 1003.14\n",
            "INFO:tensorflow:loss = 8774.408, step = 5601 (0.100 sec)\n",
            "INFO:tensorflow:global_step/sec: 1032.38\n",
            "INFO:tensorflow:loss = 7060.296, step = 5701 (0.102 sec)\n",
            "INFO:tensorflow:global_step/sec: 1003.61\n",
            "INFO:tensorflow:loss = 9841.25, step = 5801 (0.097 sec)\n",
            "INFO:tensorflow:global_step/sec: 949.077\n",
            "INFO:tensorflow:loss = 7910.7407, step = 5901 (0.104 sec)\n",
            "INFO:tensorflow:global_step/sec: 918.772\n",
            "INFO:tensorflow:loss = 6568.6543, step = 6001 (0.109 sec)\n",
            "INFO:tensorflow:global_step/sec: 916.485\n",
            "INFO:tensorflow:loss = 5876.744, step = 6101 (0.108 sec)\n",
            "INFO:tensorflow:global_step/sec: 960.729\n",
            "INFO:tensorflow:loss = 5072.443, step = 6201 (0.105 sec)\n",
            "INFO:tensorflow:global_step/sec: 975.733\n",
            "INFO:tensorflow:loss = 8156.52, step = 6301 (0.102 sec)\n",
            "INFO:tensorflow:global_step/sec: 939.803\n",
            "INFO:tensorflow:loss = 4939.806, step = 6401 (0.107 sec)\n",
            "INFO:tensorflow:global_step/sec: 1034.75\n",
            "INFO:tensorflow:loss = 5399.6304, step = 6501 (0.095 sec)\n",
            "INFO:tensorflow:global_step/sec: 997.02\n",
            "INFO:tensorflow:loss = 5544.5107, step = 6601 (0.102 sec)\n",
            "INFO:tensorflow:global_step/sec: 900.562\n",
            "INFO:tensorflow:loss = 4968.167, step = 6701 (0.111 sec)\n",
            "INFO:tensorflow:global_step/sec: 937.335\n",
            "INFO:tensorflow:loss = 4684.2075, step = 6801 (0.107 sec)\n",
            "INFO:tensorflow:global_step/sec: 1022.09\n",
            "INFO:tensorflow:loss = 4478.1797, step = 6901 (0.095 sec)\n",
            "INFO:tensorflow:global_step/sec: 919.86\n",
            "INFO:tensorflow:loss = 5275.646, step = 7001 (0.112 sec)\n",
            "INFO:tensorflow:global_step/sec: 999.041\n",
            "INFO:tensorflow:loss = 4652.496, step = 7101 (0.101 sec)\n",
            "INFO:tensorflow:global_step/sec: 991.979\n",
            "INFO:tensorflow:loss = 3735.2202, step = 7201 (0.100 sec)\n",
            "INFO:tensorflow:global_step/sec: 1051.86\n",
            "INFO:tensorflow:loss = 4448.4746, step = 7301 (0.095 sec)\n",
            "INFO:tensorflow:global_step/sec: 975.753\n",
            "INFO:tensorflow:loss = 4483.531, step = 7401 (0.099 sec)\n",
            "INFO:tensorflow:global_step/sec: 848.799\n",
            "INFO:tensorflow:loss = 5044.9224, step = 7501 (0.118 sec)\n",
            "INFO:tensorflow:global_step/sec: 1011.52\n",
            "INFO:tensorflow:loss = 5089.0117, step = 7601 (0.100 sec)\n",
            "INFO:tensorflow:global_step/sec: 953.969\n",
            "INFO:tensorflow:loss = 4393.538, step = 7701 (0.105 sec)\n",
            "INFO:tensorflow:global_step/sec: 997.103\n",
            "INFO:tensorflow:loss = 5276.801, step = 7801 (0.098 sec)\n",
            "INFO:tensorflow:global_step/sec: 958.621\n",
            "INFO:tensorflow:loss = 3536.4185, step = 7901 (0.107 sec)\n",
            "INFO:tensorflow:global_step/sec: 883.731\n",
            "INFO:tensorflow:loss = 4088.774, step = 8001 (0.111 sec)\n",
            "INFO:tensorflow:global_step/sec: 1000.75\n",
            "INFO:tensorflow:loss = 3867.5396, step = 8101 (0.101 sec)\n",
            "INFO:tensorflow:global_step/sec: 1020.96\n",
            "INFO:tensorflow:loss = 3801.3442, step = 8201 (0.100 sec)\n",
            "INFO:tensorflow:global_step/sec: 1025.37\n",
            "INFO:tensorflow:loss = 3690.4766, step = 8301 (0.097 sec)\n",
            "INFO:tensorflow:global_step/sec: 933.102\n",
            "INFO:tensorflow:loss = 4033.85, step = 8401 (0.107 sec)\n",
            "INFO:tensorflow:global_step/sec: 988.393\n",
            "INFO:tensorflow:loss = 3799.0984, step = 8501 (0.104 sec)\n",
            "INFO:tensorflow:global_step/sec: 963.099\n",
            "INFO:tensorflow:loss = 3199.476, step = 8601 (0.098 sec)\n",
            "INFO:tensorflow:global_step/sec: 961.278\n",
            "INFO:tensorflow:loss = 2817.7517, step = 8701 (0.107 sec)\n",
            "INFO:tensorflow:global_step/sec: 996.748\n",
            "INFO:tensorflow:loss = 4295.7437, step = 8801 (0.098 sec)\n",
            "INFO:tensorflow:global_step/sec: 1020.59\n",
            "INFO:tensorflow:loss = 3592.2588, step = 8901 (0.099 sec)\n",
            "INFO:tensorflow:global_step/sec: 936.387\n",
            "INFO:tensorflow:loss = 3406.8557, step = 9001 (0.107 sec)\n",
            "INFO:tensorflow:global_step/sec: 996.265\n",
            "INFO:tensorflow:loss = 2836.9758, step = 9101 (0.102 sec)\n",
            "INFO:tensorflow:global_step/sec: 1037.58\n",
            "INFO:tensorflow:loss = 3227.3271, step = 9201 (0.094 sec)\n",
            "INFO:tensorflow:global_step/sec: 999.591\n",
            "INFO:tensorflow:loss = 2875.8896, step = 9301 (0.100 sec)\n",
            "INFO:tensorflow:global_step/sec: 1060.35\n",
            "INFO:tensorflow:loss = 4033.8794, step = 9401 (0.098 sec)\n",
            "INFO:tensorflow:global_step/sec: 1003.18\n",
            "INFO:tensorflow:loss = 2728.8203, step = 9501 (0.098 sec)\n",
            "INFO:tensorflow:global_step/sec: 1050.76\n",
            "INFO:tensorflow:loss = 4073.7456, step = 9601 (0.095 sec)\n",
            "INFO:tensorflow:global_step/sec: 954.739\n",
            "INFO:tensorflow:loss = 3822.181, step = 9701 (0.106 sec)\n",
            "INFO:tensorflow:global_step/sec: 1032.32\n",
            "INFO:tensorflow:loss = 3640.4834, step = 9801 (0.094 sec)\n",
            "INFO:tensorflow:global_step/sec: 1002.02\n",
            "INFO:tensorflow:loss = 2890.7073, step = 9901 (0.103 sec)\n",
            "INFO:tensorflow:Saving checkpoints for 10000 into /tmp/linearTDMaxMinSnowStrong5/model.ckpt.\n",
            "INFO:tensorflow:Loss for final step: 3606.1416.\n",
            "WARNING:tensorflow:float64 is not supported by many models, consider casting to float32.\n",
            "INFO:tensorflow:Graph was finalized.\n",
            "INFO:tensorflow:Restoring parameters from /tmp/linearTDMaxMinSnowStrong5/model.ckpt-10000\n",
            "INFO:tensorflow:Running local_init_op.\n",
            "INFO:tensorflow:Done running local_init_op.\n",
            "LinearRegression has RMSE of 59.99944944683576\n",
            "Just using average = 727.3967789165447 has RMSE of 76.66553314687228\n"
          ]
        }
      ]
    },
    {
      "cell_type": "markdown",
      "source": [
        "Temp Dewp  \n",
        "Model 1 got a RMSE of 56.4476 | Using the average of 730.0410 it got an RMSE of 78.1526  \n",
        "Model 2 got a RMSE of 55.5389 | Using the average of 729.6186 it got an RMSE of 82.3526  \n",
        "Model 3 got a RMSE of 56.4135 | Using the average of 727.0608 it got an RMSE of 79.9334  \n",
        "Model 4 got a RMSE of 63.9391 | Using the average of 729.1464 it got an RMSE of 86.8047  \n",
        "Model 5 got an RMSE of 58.6262 | Using the average of 728.5022 it got an RMSE of 88.3506   \n"
      ],
      "metadata": {
        "id": "edpHKeZm3LAw"
      }
    },
    {
      "cell_type": "markdown",
      "source": [
        "Temp Dewp Sndp  \n",
        "Model 1 got a RMSE of 58.1260 | Using the average of 729.2819 it got an RMSE of 79.8057  \n",
        "Model 2 got a RMSE of 57.2818 | Using the average of 728.4758 it got an RMSE of 82.2580  \n",
        "Model 3 got a RMSE of 53.2411 | Using the average of 727.3089 it got an RMSE of 81.4985  \n",
        "Model 4 got a RMSE of 62.9393 | Using the average of 729.6435 it got an RMSE of 86.3034  \n",
        "Model 5 got an RMSE of 56.6542 | Using the average of 730.5483 it got an RMSE of 84.1646   \n",
        "  "
      ],
      "metadata": {
        "id": "illa1TZMQNBN"
      }
    },
    {
      "cell_type": "markdown",
      "source": [
        "Temp Dewp Max Min  \n",
        "Model 1 got a RMSE of 55.5577 | Using the average of 730.0608 it got an RMSE of 83.7190  \n",
        "Model 2 got a RMSE of 56.8788 | Using the average of 730.3353 it got an RMSE of 83.2992  \n",
        "Model 3 got a RMSE of 55.6406 | Using the average of 730.0469 it got an RMSE of 78.3270  \n",
        "Model 4 got a RMSE of 60.3791 | Using the average of 727.8851 it got an RMSE of 85.0037  \n",
        "Model 5 got an RMSE of 54.5984 | Using the average of 728.8038 it got an RMSE of 83.8934   \n",
        "  "
      ],
      "metadata": {
        "id": "RCxOGo78QNPn"
      }
    },
    {
      "cell_type": "markdown",
      "source": [
        "Temp Dewp Max Min  \n",
        "Model 1 got a RMSE of 56.8273 | Using the average of 729.1808 it got an RMSE of 75.8665  \n",
        "Model 2 got a RMSE of 60.8201 | Using the average of 730.7328 it got an RMSE of 88.3429  \n",
        "Model 3 got a RMSE of 58.5375 | Using the average of 729.8660 it got an RMSE of 85.3575  \n",
        "Model 4 got a RMSE of 61.5252 | Using the average of 729.8521 it got an RMSE of 85.1009  \n",
        "Model 5 got an RMSE of 59.9994 | Using the average of 727.3968 it got an RMSE of 76.6655   \n",
        "  "
      ],
      "metadata": {
        "id": "ikzpWR98QNiG"
      }
    },
    {
      "cell_type": "code",
      "metadata": {
        "id": "S646OaU0R8UQ",
        "outputId": "2ebcc4e9-c46b-43b5-ddb6-24eb4e9fdfcf",
        "colab": {
          "base_uri": "https://localhost:8080/"
        }
      },
      "source": [
        "# Creating a variable for the last 5% of the data that is easy to handle\n",
        "input = predictors[testsize + trainsize:]\n",
        "\t\t\t\t\t\n",
        "# Boilerplate for creating the estimator\n",
        "estimator = tf.contrib.learn.SKCompat(tf.contrib.learn.LinearRegressor(model_dir='/tmp/linearTDMaxMinSnowStrong5', enable_centered_bias=False, feature_columns=tf.contrib.learn.infer_real_valued_columns_from_input(input.values)))\n",
        "\n",
        "# Predicting the values \n",
        "preds = estimator.predict(x=input.values)\n",
        "\n",
        "# Creating a list of predictions \n",
        "predslist = preds['scores']*SCALE_NUM_TRIPS\n",
        "\n",
        "# Creating the RMSE by comparing the targets to the list of predictions\n",
        "rmse = np.sqrt(np.mean((targets[testsize + trainsize:].values - predslist)**2))\n",
        "\n",
        "# Calculate the mean of the Number of Crimes Values.\n",
        "avg = np.mean(shuffle['NUM_CRIMES'][testsize + trainsize:])\n",
        "\n",
        "corr_matrix = np.corrcoef(targets[testsize + trainsize:].values, predslist)\n",
        "corr = corr_matrix[0,1]\n",
        "R_sq = corr**2\n",
        "\n",
        "print()\n",
        "# Printing the rmse and average crimes\n",
        "print('LinearRegression has RMSE of {0}'.format(rmse));\n",
        "print('Average is {0}'.format(avg))\n",
        "print('The coefficient of determination is {0}'.format(R_sq))"
      ],
      "execution_count": 152,
      "outputs": [
        {
          "output_type": "stream",
          "name": "stdout",
          "text": [
            "WARNING:tensorflow:float64 is not supported by many models, consider casting to float32.\n",
            "INFO:tensorflow:Using default config.\n",
            "INFO:tensorflow:Using config: {'_task_type': None, '_task_id': 0, '_cluster_spec': <tensorflow.python.training.server_lib.ClusterSpec object at 0x7f4f0b2eb790>, '_master': '', '_num_ps_replicas': 0, '_num_worker_replicas': 0, '_environment': 'local', '_is_chief': True, '_evaluation_master': '', '_train_distribute': None, '_eval_distribute': None, '_experimental_max_worker_delay_secs': None, '_device_fn': None, '_tf_config': gpu_options {\n",
            "  per_process_gpu_memory_fraction: 1.0\n",
            "}\n",
            ", '_tf_random_seed': None, '_save_summary_steps': 100, '_save_checkpoints_secs': 600, '_log_step_count_steps': 100, '_protocol': None, '_session_config': None, '_save_checkpoints_steps': None, '_keep_checkpoint_max': 5, '_keep_checkpoint_every_n_hours': 10000, '_model_dir': '/tmp/linearTDMaxMinSnowStrong5', '_session_creation_timeout_secs': 7200}\n",
            "WARNING:tensorflow:float64 is not supported by many models, consider casting to float32.\n",
            "INFO:tensorflow:Graph was finalized.\n",
            "INFO:tensorflow:Restoring parameters from /tmp/linearTDMaxMinSnowStrong5/model.ckpt-10000\n",
            "INFO:tensorflow:Running local_init_op.\n",
            "INFO:tensorflow:Done running local_init_op.\n",
            "\n",
            "LinearRegression has RMSE of 58.891770423357286\n",
            "Average is 736.3804347826087\n",
            "The coefficient of determination is 0.5091918608328189\n"
          ]
        }
      ]
    },
    {
      "cell_type": "markdown",
      "metadata": {
        "id": "UvHvR5o9Xus1"
      },
      "source": [
        "Temp Dewp  \n",
        "Model 1 got a RMSE of 56.4245 and a r^2 of 0.6091  \n",
        "Model 2 got a RMSE of 56.4859 and a r^2 of 0.5122  \n",
        "Model 3 got a RMSE of 71.7048 and a r^2 of 0.4648  \n",
        "Model 4 got a RMSE of 58.4935 and a r^2 of 0.4869  \n",
        "Model 5 got an RMSE of 59.4891 and a r^2 of 0.5347  "
      ]
    },
    {
      "cell_type": "markdown",
      "source": [
        "Temp Dewp Sndp  \n",
        "Model 1 got a RMSE of 52.2847 and a r^2 of 0.6171  \n",
        "Model 2 got a RMSE of 60.7817 and a r^2 of 0.5003  \n",
        "Model 3 got a RMSE of 64.2587 and a r^2 of 0.5034  \n",
        "Model 4 got a RMSE of 53.4029 and a r^2 of 0.5930  \n",
        "Model 5 got an RMSE of 56.9881 and a r^2 of 0.4893  "
      ],
      "metadata": {
        "id": "0RWE2FzwQibA"
      }
    },
    {
      "cell_type": "markdown",
      "source": [
        "Temp Dewp Max Min  \n",
        "Model 1 got a RMSE of 58.2913 and a r^2 of 0.5469  \n",
        "Model 2 got a RMSE of 58.6183 and a r^2 of 0.5374  \n",
        "Model 3 got a RMSE of 51.5437 and a r^2 of 0.5308  \n",
        "Model 4 got a RMSE of 66.7020 and a r^2 of 0.4257  \n",
        "Model 5 got an RMSE of 67.3570 and a r^2 of 0.4535  \n"
      ],
      "metadata": {
        "id": "Y-Ch7S0IQio6"
      }
    },
    {
      "cell_type": "markdown",
      "source": [
        "Temp Dewp Max Min Sndp  \n",
        "Model 1 got a RMSE of 55.6091 and a r^2 of 0.5127  \n",
        "Model 2 got a RMSE of 54.3686 and a r^2 of 0.6086  \n",
        "Model 3 got a RMSE of 63.3079 and a r^2 of 0.4911  \n",
        "Model 4 got a RMSE of 61.4333 and a r^2 of 0.4896  \n",
        "Model 5 got an RMSE of 58.8918 and a r^2 of 0.5092  "
      ],
      "metadata": {
        "id": "UL_xPssOQi9X"
      }
    }
  ]
}