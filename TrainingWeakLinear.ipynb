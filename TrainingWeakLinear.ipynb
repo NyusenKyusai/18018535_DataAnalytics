{
  "nbformat": 4,
  "nbformat_minor": 0,
  "metadata": {
    "colab": {
      "name": "TrainingWeakLinear.ipynb",
      "provenance": [],
      "collapsed_sections": [],
      "include_colab_link": true
    },
    "kernelspec": {
      "name": "python3",
      "display_name": "Python 3"
    }
  },
  "cells": [
    {
      "cell_type": "markdown",
      "metadata": {
        "id": "view-in-github",
        "colab_type": "text"
      },
      "source": [
        "<a href=\"https://colab.research.google.com/github/NyusenKyusai/18018535_DataAnalytics/blob/main/TrainingWeakLinear.ipynb\" target=\"_parent\"><img src=\"https://colab.research.google.com/assets/colab-badge.svg\" alt=\"Open In Colab\"/></a>"
      ]
    },
    {
      "cell_type": "markdown",
      "metadata": {
        "id": "4w9sEQx-NFJv"
      },
      "source": [
        "Here I will creating a model with the dataset that is temperature, dew point, and has the strong outliers removed."
      ]
    },
    {
      "cell_type": "code",
      "metadata": {
        "id": "2p-7cPGENClE"
      },
      "source": [
        "# needed to create the data frame\n",
        "import pandas as pd\n",
        "\n",
        "# create data frame from csv file we hosted on our github\n",
        "df1 = pd.read_csv('https://raw.githubusercontent.com/NyusenKyusai/18018535_DataAnalytics/main/linearTDWeak.csv', index_col=0, )\n",
        "df2 = pd.read_csv('https://raw.githubusercontent.com/NyusenKyusai/18018535_DataAnalytics/main/linearTDSnowWeak.csv', index_col=0, )\n",
        "df3 = pd.read_csv('https://raw.githubusercontent.com/NyusenKyusai/18018535_DataAnalytics/main/linearTDMaxMinWeak.csv', index_col=0, )\n",
        "df4 = pd.read_csv('https://raw.githubusercontent.com/NyusenKyusai/18018535_DataAnalytics/main/linearTDMaxMinSnowWeak.csv', index_col=0, )"
      ],
      "execution_count": 1,
      "outputs": []
    },
    {
      "cell_type": "code",
      "metadata": {
        "id": "DEw-Y4JWNkh1",
        "outputId": "546f2795-7d2b-473a-ab8b-b5633a660047",
        "colab": {
          "base_uri": "https://localhost:8080/"
        }
      },
      "source": [
        "# make sure we have our data by printing it out\n",
        "print(df1[:6])"
      ],
      "execution_count": 2,
      "outputs": [
        {
          "output_type": "stream",
          "name": "stdout",
          "text": [
            "    temp  dewp  NUM_CRIMES\n",
            "2   25.7  16.0         674\n",
            "3   31.5  27.0         648\n",
            "4   29.0  26.1         514\n",
            "5    2.2  -7.4         523\n",
            "9    8.1  -0.5         590\n",
            "10   4.8  -3.9         647\n"
          ]
        }
      ]
    },
    {
      "cell_type": "code",
      "metadata": {
        "id": "U4FV9fPUOkvw",
        "outputId": "0f4a7946-a403-475d-e470-bc7c5b500775",
        "colab": {
          "base_uri": "https://localhost:8080/"
        }
      },
      "source": [
        "# needed to help with speedy maths based calculations\n",
        "import numpy as np\n",
        "\n",
        "# iloc allows us to select by rows. Here, we are shuffling the data by rows determined at random.\n",
        "shuffle = df4.iloc[np.random.permutation(len(df4))]\n",
        "\n",
        "# d1 = 2\n",
        "# d2 = 3\n",
        "# d3 = 4\n",
        "# d4 = 5\n",
        "# we are selecting all rows of the columns outliined i.e. The 3rd (2 as indexes start from 0)\n",
        "predictors = shuffle.iloc[:,0:5]\n",
        "\n",
        "# print out the first 6 rows of predictors.\n",
        "print(predictors[:6])"
      ],
      "execution_count": 166,
      "outputs": [
        {
          "output_type": "stream",
          "name": "stdout",
          "text": [
            "      temp  dewp   max   min  sndp\n",
            "128   71.1  60.7  82.9  52.0   0.0\n",
            "572   79.0  66.4  93.0  71.1   0.0\n",
            "1800  35.7  27.9  45.0  27.0   0.0\n",
            "691   30.1  17.2  41.0  21.9   0.0\n",
            "1716  71.9  66.8  89.1  63.0   0.0\n",
            "1473  30.2  23.8  32.0  17.1   2.0\n"
          ]
        }
      ]
    },
    {
      "cell_type": "code",
      "metadata": {
        "id": "v-gahQCyO6BJ",
        "outputId": "5abf6a4c-1ca5-432b-8c98-9e5829127b9b",
        "colab": {
          "base_uri": "https://localhost:8080/",
          "height": 206
        }
      },
      "source": [
        "# print out the shuffled data (first 5 rows)\n",
        "shuffle[:5]"
      ],
      "execution_count": 167,
      "outputs": [
        {
          "output_type": "execute_result",
          "data": {
            "text/plain": [
              "      temp  dewp   max   min  sndp  NUM_CRIMES\n",
              "128   71.1  60.7  82.9  52.0   0.0         807\n",
              "572   79.0  66.4  93.0  71.1   0.0         827\n",
              "1800  35.7  27.9  45.0  27.0   0.0         700\n",
              "691   30.1  17.2  41.0  21.9   0.0         683\n",
              "1716  71.9  66.8  89.1  63.0   0.0         784"
            ],
            "text/html": [
              "\n",
              "  <div id=\"df-cc9819b2-d468-49d3-b673-2b18ab767805\">\n",
              "    <div class=\"colab-df-container\">\n",
              "      <div>\n",
              "<style scoped>\n",
              "    .dataframe tbody tr th:only-of-type {\n",
              "        vertical-align: middle;\n",
              "    }\n",
              "\n",
              "    .dataframe tbody tr th {\n",
              "        vertical-align: top;\n",
              "    }\n",
              "\n",
              "    .dataframe thead th {\n",
              "        text-align: right;\n",
              "    }\n",
              "</style>\n",
              "<table border=\"1\" class=\"dataframe\">\n",
              "  <thead>\n",
              "    <tr style=\"text-align: right;\">\n",
              "      <th></th>\n",
              "      <th>temp</th>\n",
              "      <th>dewp</th>\n",
              "      <th>max</th>\n",
              "      <th>min</th>\n",
              "      <th>sndp</th>\n",
              "      <th>NUM_CRIMES</th>\n",
              "    </tr>\n",
              "  </thead>\n",
              "  <tbody>\n",
              "    <tr>\n",
              "      <th>128</th>\n",
              "      <td>71.1</td>\n",
              "      <td>60.7</td>\n",
              "      <td>82.9</td>\n",
              "      <td>52.0</td>\n",
              "      <td>0.0</td>\n",
              "      <td>807</td>\n",
              "    </tr>\n",
              "    <tr>\n",
              "      <th>572</th>\n",
              "      <td>79.0</td>\n",
              "      <td>66.4</td>\n",
              "      <td>93.0</td>\n",
              "      <td>71.1</td>\n",
              "      <td>0.0</td>\n",
              "      <td>827</td>\n",
              "    </tr>\n",
              "    <tr>\n",
              "      <th>1800</th>\n",
              "      <td>35.7</td>\n",
              "      <td>27.9</td>\n",
              "      <td>45.0</td>\n",
              "      <td>27.0</td>\n",
              "      <td>0.0</td>\n",
              "      <td>700</td>\n",
              "    </tr>\n",
              "    <tr>\n",
              "      <th>691</th>\n",
              "      <td>30.1</td>\n",
              "      <td>17.2</td>\n",
              "      <td>41.0</td>\n",
              "      <td>21.9</td>\n",
              "      <td>0.0</td>\n",
              "      <td>683</td>\n",
              "    </tr>\n",
              "    <tr>\n",
              "      <th>1716</th>\n",
              "      <td>71.9</td>\n",
              "      <td>66.8</td>\n",
              "      <td>89.1</td>\n",
              "      <td>63.0</td>\n",
              "      <td>0.0</td>\n",
              "      <td>784</td>\n",
              "    </tr>\n",
              "  </tbody>\n",
              "</table>\n",
              "</div>\n",
              "      <button class=\"colab-df-convert\" onclick=\"convertToInteractive('df-cc9819b2-d468-49d3-b673-2b18ab767805')\"\n",
              "              title=\"Convert this dataframe to an interactive table.\"\n",
              "              style=\"display:none;\">\n",
              "        \n",
              "  <svg xmlns=\"http://www.w3.org/2000/svg\" height=\"24px\"viewBox=\"0 0 24 24\"\n",
              "       width=\"24px\">\n",
              "    <path d=\"M0 0h24v24H0V0z\" fill=\"none\"/>\n",
              "    <path d=\"M18.56 5.44l.94 2.06.94-2.06 2.06-.94-2.06-.94-.94-2.06-.94 2.06-2.06.94zm-11 1L8.5 8.5l.94-2.06 2.06-.94-2.06-.94L8.5 2.5l-.94 2.06-2.06.94zm10 10l.94 2.06.94-2.06 2.06-.94-2.06-.94-.94-2.06-.94 2.06-2.06.94z\"/><path d=\"M17.41 7.96l-1.37-1.37c-.4-.4-.92-.59-1.43-.59-.52 0-1.04.2-1.43.59L10.3 9.45l-7.72 7.72c-.78.78-.78 2.05 0 2.83L4 21.41c.39.39.9.59 1.41.59.51 0 1.02-.2 1.41-.59l7.78-7.78 2.81-2.81c.8-.78.8-2.07 0-2.86zM5.41 20L4 18.59l7.72-7.72 1.47 1.35L5.41 20z\"/>\n",
              "  </svg>\n",
              "      </button>\n",
              "      \n",
              "  <style>\n",
              "    .colab-df-container {\n",
              "      display:flex;\n",
              "      flex-wrap:wrap;\n",
              "      gap: 12px;\n",
              "    }\n",
              "\n",
              "    .colab-df-convert {\n",
              "      background-color: #E8F0FE;\n",
              "      border: none;\n",
              "      border-radius: 50%;\n",
              "      cursor: pointer;\n",
              "      display: none;\n",
              "      fill: #1967D2;\n",
              "      height: 32px;\n",
              "      padding: 0 0 0 0;\n",
              "      width: 32px;\n",
              "    }\n",
              "\n",
              "    .colab-df-convert:hover {\n",
              "      background-color: #E2EBFA;\n",
              "      box-shadow: 0px 1px 2px rgba(60, 64, 67, 0.3), 0px 1px 3px 1px rgba(60, 64, 67, 0.15);\n",
              "      fill: #174EA6;\n",
              "    }\n",
              "\n",
              "    [theme=dark] .colab-df-convert {\n",
              "      background-color: #3B4455;\n",
              "      fill: #D2E3FC;\n",
              "    }\n",
              "\n",
              "    [theme=dark] .colab-df-convert:hover {\n",
              "      background-color: #434B5C;\n",
              "      box-shadow: 0px 1px 3px 1px rgba(0, 0, 0, 0.15);\n",
              "      filter: drop-shadow(0px 1px 2px rgba(0, 0, 0, 0.3));\n",
              "      fill: #FFFFFF;\n",
              "    }\n",
              "  </style>\n",
              "\n",
              "      <script>\n",
              "        const buttonEl =\n",
              "          document.querySelector('#df-cc9819b2-d468-49d3-b673-2b18ab767805 button.colab-df-convert');\n",
              "        buttonEl.style.display =\n",
              "          google.colab.kernel.accessAllowed ? 'block' : 'none';\n",
              "\n",
              "        async function convertToInteractive(key) {\n",
              "          const element = document.querySelector('#df-cc9819b2-d468-49d3-b673-2b18ab767805');\n",
              "          const dataTable =\n",
              "            await google.colab.kernel.invokeFunction('convertToInteractive',\n",
              "                                                     [key], {});\n",
              "          if (!dataTable) return;\n",
              "\n",
              "          const docLinkHtml = 'Like what you see? Visit the ' +\n",
              "            '<a target=\"_blank\" href=https://colab.research.google.com/notebooks/data_table.ipynb>data table notebook</a>'\n",
              "            + ' to learn more about interactive tables.';\n",
              "          element.innerHTML = '';\n",
              "          dataTable['output_type'] = 'display_data';\n",
              "          await google.colab.output.renderOutput(dataTable, element);\n",
              "          const docLink = document.createElement('div');\n",
              "          docLink.innerHTML = docLinkHtml;\n",
              "          element.appendChild(docLink);\n",
              "        }\n",
              "      </script>\n",
              "    </div>\n",
              "  </div>\n",
              "  "
            ]
          },
          "metadata": {},
          "execution_count": 167
        }
      ]
    },
    {
      "cell_type": "code",
      "metadata": {
        "id": "hceMJGRGPPbl",
        "outputId": "4662e813-9f37-4acf-eae5-651de28d3e53",
        "colab": {
          "base_uri": "https://localhost:8080/"
        }
      },
      "source": [
        "# Select all rows for the 2nd column (i.e. 1)\n",
        "targets = shuffle.iloc[:,-1]\n",
        "\n",
        "# print out the first 6 rows of the targets data.\n",
        "print(targets[:6])"
      ],
      "execution_count": 168,
      "outputs": [
        {
          "output_type": "stream",
          "name": "stdout",
          "text": [
            "128     807\n",
            "572     827\n",
            "1800    700\n",
            "691     683\n",
            "1716    784\n",
            "1473    673\n",
            "Name: NUM_CRIMES, dtype: int64\n"
          ]
        }
      ]
    },
    {
      "cell_type": "code",
      "metadata": {
        "id": "vTMxwMfGPdWJ"
      },
      "source": [
        "# A scale is not required here, but the constant will be useful in the assignment.\n",
        "SCALE_NUM_TRIPS = 1.0"
      ],
      "execution_count": 169,
      "outputs": []
    },
    {
      "cell_type": "code",
      "metadata": {
        "id": "xbgNNZYkPkCA"
      },
      "source": [
        "# Split our data into a training set i.e. 75% of the length of the shuffle array\n",
        "trainsize = int(len(shuffle['NUM_CRIMES'])*0.75)\n",
        "# Split our data into a test set i.e. 20% of the length of the shuffle array\n",
        "testsize = int(len(shuffle['NUM_CRIMES'])*0.2)\n",
        "# The final test set size is 100% - 75% - 20% = 5% of the length of the shuffle array.\n",
        "finaltestsize = len(shuffle['NUM_CRIMES']) - trainsize - testsize\n",
        "\n",
        "# Define the number of input values (predictors)\n",
        "nppredictors = 5\n",
        "# Define the number of output values (targets)\n",
        "noutputs = 1"
      ],
      "execution_count": 170,
      "outputs": []
    },
    {
      "cell_type": "code",
      "metadata": {
        "id": "maFRZkDkQdpA",
        "outputId": "c28ae15c-c776-4ad7-c5a0-b685055aae78",
        "colab": {
          "base_uri": "https://localhost:8080/"
        }
      },
      "source": [
        "# import tensorflow\n",
        "%tensorflow_version 1.x\n",
        "import tensorflow as tf\n",
        "\n",
        "# check the version\n",
        "print(tf.__version__)\n",
        "\n",
        "# needed for high-level file management\n",
        "import shutil  \n",
        "\n",
        "# logging for tensorflow\n",
        "tf.compat.v1.logging.set_verbosity(tf.compat.v1.logging.INFO)\n",
        "\n",
        "# removes a saved model from the last training attempt.\n",
        "# linearTDWeak\n",
        "# linearTDSnowWeak\n",
        "# linearTDMaxMinWeak\n",
        "# linearTDMaxMinSnowWeak\n",
        "shutil.rmtree('/tmp/linearTDMaxMinSnowWeak5', ignore_errors=True)\n",
        "\n",
        "# This is the core of our linear regressor\n",
        "\n",
        "# You can see that we save the model, use the the Adam optimization algorithm, which is an extension \n",
        "# to stochastic gradient descent that has recently seen broader adoption for deep learning applications \n",
        "# in computer vision and natural language processing and infer real valued columns from input which interprets \n",
        "# all inputs as dense, fixed-length float values.\n",
        "\n",
        "# See the link for more information\n",
        "# https://www.tensorflow.org/versions/r1.15/api_docs/python/tf/contrib/learn/LinearRegressor\n",
        "estimator = tf.contrib.learn.SKCompat(tf.contrib.learn.LinearRegressor(model_dir='/tmp/linearTDMaxMinSnowWeak5', optimizer=tf.train.AdamOptimizer(learning_rate=0.1), enable_centered_bias=False, feature_columns=tf.contrib.learn.infer_real_valued_columns_from_input(predictors.values)))\n",
        "\n",
        "# Prints a log to show model is starting to train\n",
        "print(\"starting to train\");\n",
        "\n",
        "# Train the model. Pass in predictor values and target values.\n",
        "estimator.fit(predictors[:trainsize].values, targets[:trainsize].values.reshape(trainsize, noutputs)/SCALE_NUM_TRIPS, steps=10000)\n",
        "\n",
        "# Next, we can check our predictions based on our predictors.\n",
        "# It goes from trainsize to testsize + trainsize to keep the last 5% out of the model\n",
        "# We can test with the last 5% later\n",
        "preds = estimator.predict(x=predictors[trainsize:testsize + trainsize].values)\n",
        "\n",
        "# Apply the Scale value (not really needed here) to the outputs.\n",
        "predslistscale = preds['scores']*SCALE_NUM_TRIPS\n",
        "\n",
        "# pred = format(str(predslistscale)) # useful for checking outputs and printing.\n",
        "\n",
        "# Calculate RMSE i.e. how good the model works using the predictions and targets.\n",
        "# i.e. take the difference between the actual and the forecast then square the difference, \n",
        "# find the average of all the squares and then find the square root. \n",
        "# The RMSE essentially punishes larger errors i.e. it puts a heavier weight on larger errors.\n",
        "rmse = np.sqrt(np.mean((targets[trainsize:testsize + trainsize].values - predslistscale)**2))\n",
        "print('LinearRegression has RMSE of {0}'.format(rmse));\n",
        "\n",
        "\n",
        "# Calculate the mean of the Number of Crimes Values.\n",
        "avg = np.mean(shuffle['NUM_CRIMES'][:trainsize])\n",
        "\n",
        "# Calculate the RMSE using Number of Crimes Values and the mean of all target values.\n",
        "# The fit of a proposed regression model should therefore be better than the fit of the mean model.\n",
        "# In this case, it doesn't seem to be the case but it will vary on every run.\n",
        "rmse = np.sqrt(np.mean((shuffle['NUM_CRIMES'][trainsize:testsize + trainsize] - avg)**2))\n",
        "print('Just using average = {0} has RMSE of {1}'.format(avg, rmse));"
      ],
      "execution_count": 171,
      "outputs": [
        {
          "output_type": "stream",
          "name": "stdout",
          "text": [
            "1.15.2\n",
            "WARNING:tensorflow:float64 is not supported by many models, consider casting to float32.\n",
            "INFO:tensorflow:Using default config.\n",
            "INFO:tensorflow:Using config: {'_task_type': None, '_task_id': 0, '_cluster_spec': <tensorflow.python.training.server_lib.ClusterSpec object at 0x7ff487fae690>, '_master': '', '_num_ps_replicas': 0, '_num_worker_replicas': 0, '_environment': 'local', '_is_chief': True, '_evaluation_master': '', '_train_distribute': None, '_eval_distribute': None, '_experimental_max_worker_delay_secs': None, '_device_fn': None, '_tf_config': gpu_options {\n",
            "  per_process_gpu_memory_fraction: 1.0\n",
            "}\n",
            ", '_tf_random_seed': None, '_save_summary_steps': 100, '_save_checkpoints_secs': 600, '_log_step_count_steps': 100, '_protocol': None, '_session_config': None, '_save_checkpoints_steps': None, '_keep_checkpoint_max': 5, '_keep_checkpoint_every_n_hours': 10000, '_model_dir': '/tmp/linearTDMaxMinSnowWeak5', '_session_creation_timeout_secs': 7200}\n",
            "starting to train\n",
            "WARNING:tensorflow:float64 is not supported by many models, consider casting to float32.\n",
            "WARNING:tensorflow:float64 is not supported by many models, consider casting to float32.\n",
            "INFO:tensorflow:Create CheckpointSaverHook.\n",
            "INFO:tensorflow:Graph was finalized.\n",
            "INFO:tensorflow:Running local_init_op.\n",
            "INFO:tensorflow:Done running local_init_op.\n",
            "INFO:tensorflow:Saving checkpoints for 0 into /tmp/linearTDMaxMinSnowWeak5/model.ckpt.\n",
            "INFO:tensorflow:loss = 545292.1, step = 1\n",
            "INFO:tensorflow:global_step/sec: 556.689\n",
            "INFO:tensorflow:loss = 46517.125, step = 101 (0.180 sec)\n",
            "INFO:tensorflow:global_step/sec: 980.443\n",
            "INFO:tensorflow:loss = 34638.145, step = 201 (0.102 sec)\n",
            "INFO:tensorflow:global_step/sec: 912.134\n",
            "INFO:tensorflow:loss = 42733.445, step = 301 (0.110 sec)\n",
            "INFO:tensorflow:global_step/sec: 1074.52\n",
            "INFO:tensorflow:loss = 25125.883, step = 401 (0.093 sec)\n",
            "INFO:tensorflow:global_step/sec: 1030.33\n",
            "INFO:tensorflow:loss = 30452.69, step = 501 (0.097 sec)\n",
            "INFO:tensorflow:global_step/sec: 1050.21\n",
            "INFO:tensorflow:loss = 27136.97, step = 601 (0.099 sec)\n",
            "INFO:tensorflow:global_step/sec: 1015.25\n",
            "INFO:tensorflow:loss = 19778.072, step = 701 (0.098 sec)\n",
            "INFO:tensorflow:global_step/sec: 838.832\n",
            "INFO:tensorflow:loss = 26202.982, step = 801 (0.118 sec)\n",
            "INFO:tensorflow:global_step/sec: 939.405\n",
            "INFO:tensorflow:loss = 21865.412, step = 901 (0.103 sec)\n",
            "INFO:tensorflow:global_step/sec: 998.318\n",
            "INFO:tensorflow:loss = 26510.055, step = 1001 (0.103 sec)\n",
            "INFO:tensorflow:global_step/sec: 951.441\n",
            "INFO:tensorflow:loss = 28319.836, step = 1101 (0.102 sec)\n",
            "INFO:tensorflow:global_step/sec: 1033.93\n",
            "INFO:tensorflow:loss = 21103.367, step = 1201 (0.097 sec)\n",
            "INFO:tensorflow:global_step/sec: 1015.46\n",
            "INFO:tensorflow:loss = 18211.105, step = 1301 (0.099 sec)\n",
            "INFO:tensorflow:global_step/sec: 975.946\n",
            "INFO:tensorflow:loss = 17690.234, step = 1401 (0.102 sec)\n",
            "INFO:tensorflow:global_step/sec: 980.255\n",
            "INFO:tensorflow:loss = 23273.766, step = 1501 (0.102 sec)\n",
            "INFO:tensorflow:global_step/sec: 1057.32\n",
            "INFO:tensorflow:loss = 22069.23, step = 1601 (0.098 sec)\n",
            "INFO:tensorflow:global_step/sec: 990.669\n",
            "INFO:tensorflow:loss = 23682.223, step = 1701 (0.100 sec)\n",
            "INFO:tensorflow:global_step/sec: 1032.28\n",
            "INFO:tensorflow:loss = 20705.719, step = 1801 (0.094 sec)\n",
            "INFO:tensorflow:global_step/sec: 919.273\n",
            "INFO:tensorflow:loss = 21968.43, step = 1901 (0.109 sec)\n",
            "INFO:tensorflow:global_step/sec: 929.65\n",
            "INFO:tensorflow:loss = 15583.524, step = 2001 (0.108 sec)\n",
            "INFO:tensorflow:global_step/sec: 1013.42\n",
            "INFO:tensorflow:loss = 17398.508, step = 2101 (0.098 sec)\n",
            "INFO:tensorflow:global_step/sec: 1023.32\n",
            "INFO:tensorflow:loss = 18529.832, step = 2201 (0.103 sec)\n",
            "INFO:tensorflow:global_step/sec: 948.886\n",
            "INFO:tensorflow:loss = 18782.297, step = 2301 (0.101 sec)\n",
            "INFO:tensorflow:global_step/sec: 963.216\n",
            "INFO:tensorflow:loss = 19212.316, step = 2401 (0.104 sec)\n",
            "INFO:tensorflow:global_step/sec: 994.682\n",
            "INFO:tensorflow:loss = 16425.02, step = 2501 (0.100 sec)\n",
            "INFO:tensorflow:global_step/sec: 807.871\n",
            "INFO:tensorflow:loss = 16756.205, step = 2601 (0.127 sec)\n",
            "INFO:tensorflow:global_step/sec: 967.511\n",
            "INFO:tensorflow:loss = 13738.715, step = 2701 (0.100 sec)\n",
            "INFO:tensorflow:global_step/sec: 852.646\n",
            "INFO:tensorflow:loss = 14030.923, step = 2801 (0.117 sec)\n",
            "INFO:tensorflow:global_step/sec: 973.272\n",
            "INFO:tensorflow:loss = 14992.723, step = 2901 (0.106 sec)\n",
            "INFO:tensorflow:global_step/sec: 924.413\n",
            "INFO:tensorflow:loss = 15148.008, step = 3001 (0.105 sec)\n",
            "INFO:tensorflow:global_step/sec: 981.211\n",
            "INFO:tensorflow:loss = 11675.12, step = 3101 (0.106 sec)\n",
            "INFO:tensorflow:global_step/sec: 961.571\n",
            "INFO:tensorflow:loss = 18658.338, step = 3201 (0.100 sec)\n",
            "INFO:tensorflow:global_step/sec: 930.959\n",
            "INFO:tensorflow:loss = 12935.785, step = 3301 (0.111 sec)\n",
            "INFO:tensorflow:global_step/sec: 968.852\n",
            "INFO:tensorflow:loss = 16104.152, step = 3401 (0.100 sec)\n",
            "INFO:tensorflow:global_step/sec: 902.653\n",
            "INFO:tensorflow:loss = 10846.289, step = 3501 (0.111 sec)\n",
            "INFO:tensorflow:global_step/sec: 996.804\n",
            "INFO:tensorflow:loss = 11019.854, step = 3601 (0.101 sec)\n",
            "INFO:tensorflow:global_step/sec: 970.131\n",
            "INFO:tensorflow:loss = 14715.574, step = 3701 (0.103 sec)\n",
            "INFO:tensorflow:global_step/sec: 901.158\n",
            "INFO:tensorflow:loss = 12291.639, step = 3801 (0.111 sec)\n",
            "INFO:tensorflow:global_step/sec: 973.391\n",
            "INFO:tensorflow:loss = 10344.887, step = 3901 (0.103 sec)\n",
            "INFO:tensorflow:global_step/sec: 1045.08\n",
            "INFO:tensorflow:loss = 9835.682, step = 4001 (0.096 sec)\n",
            "INFO:tensorflow:global_step/sec: 948.695\n",
            "INFO:tensorflow:loss = 12755.869, step = 4101 (0.106 sec)\n",
            "INFO:tensorflow:global_step/sec: 1044.7\n",
            "INFO:tensorflow:loss = 9345.145, step = 4201 (0.097 sec)\n",
            "INFO:tensorflow:global_step/sec: 987.232\n",
            "INFO:tensorflow:loss = 9338.884, step = 4301 (0.100 sec)\n",
            "INFO:tensorflow:global_step/sec: 1059.38\n",
            "INFO:tensorflow:loss = 11571.042, step = 4401 (0.094 sec)\n",
            "INFO:tensorflow:global_step/sec: 998.894\n",
            "INFO:tensorflow:loss = 9990.147, step = 4501 (0.100 sec)\n",
            "INFO:tensorflow:global_step/sec: 967.214\n",
            "INFO:tensorflow:loss = 8369.3125, step = 4601 (0.103 sec)\n",
            "INFO:tensorflow:global_step/sec: 990.133\n",
            "INFO:tensorflow:loss = 7994.2603, step = 4701 (0.102 sec)\n",
            "INFO:tensorflow:global_step/sec: 914.224\n",
            "INFO:tensorflow:loss = 8908.008, step = 4801 (0.110 sec)\n",
            "INFO:tensorflow:global_step/sec: 956.119\n",
            "INFO:tensorflow:loss = 7597.2715, step = 4901 (0.104 sec)\n",
            "INFO:tensorflow:global_step/sec: 1013.85\n",
            "INFO:tensorflow:loss = 8707.719, step = 5001 (0.098 sec)\n",
            "INFO:tensorflow:global_step/sec: 991.929\n",
            "INFO:tensorflow:loss = 9115.33, step = 5101 (0.102 sec)\n",
            "INFO:tensorflow:global_step/sec: 1030.23\n",
            "INFO:tensorflow:loss = 6917.6045, step = 5201 (0.096 sec)\n",
            "INFO:tensorflow:global_step/sec: 980.39\n",
            "INFO:tensorflow:loss = 9279.193, step = 5301 (0.102 sec)\n",
            "INFO:tensorflow:global_step/sec: 1048.67\n",
            "INFO:tensorflow:loss = 4640.558, step = 5401 (0.095 sec)\n",
            "INFO:tensorflow:global_step/sec: 934.801\n",
            "INFO:tensorflow:loss = 6696.9727, step = 5501 (0.109 sec)\n",
            "INFO:tensorflow:global_step/sec: 1050.34\n",
            "INFO:tensorflow:loss = 6922.56, step = 5601 (0.094 sec)\n",
            "INFO:tensorflow:global_step/sec: 995.416\n",
            "INFO:tensorflow:loss = 5428.226, step = 5701 (0.100 sec)\n",
            "INFO:tensorflow:global_step/sec: 862.875\n",
            "INFO:tensorflow:loss = 6205.231, step = 5801 (0.117 sec)\n",
            "INFO:tensorflow:global_step/sec: 946.159\n",
            "INFO:tensorflow:loss = 5108.7705, step = 5901 (0.107 sec)\n",
            "INFO:tensorflow:global_step/sec: 1000.29\n",
            "INFO:tensorflow:loss = 5474.114, step = 6001 (0.097 sec)\n",
            "INFO:tensorflow:global_step/sec: 976.255\n",
            "INFO:tensorflow:loss = 4681.1714, step = 6101 (0.105 sec)\n",
            "INFO:tensorflow:global_step/sec: 1026.92\n",
            "INFO:tensorflow:loss = 6089.255, step = 6201 (0.097 sec)\n",
            "INFO:tensorflow:global_step/sec: 1006.94\n",
            "INFO:tensorflow:loss = 5224.0405, step = 6301 (0.098 sec)\n",
            "INFO:tensorflow:global_step/sec: 954.818\n",
            "INFO:tensorflow:loss = 6347.5293, step = 6401 (0.109 sec)\n",
            "INFO:tensorflow:global_step/sec: 949.399\n",
            "INFO:tensorflow:loss = 3536.727, step = 6501 (0.101 sec)\n",
            "INFO:tensorflow:global_step/sec: 995.222\n",
            "INFO:tensorflow:loss = 5273.583, step = 6601 (0.105 sec)\n",
            "INFO:tensorflow:global_step/sec: 972.631\n",
            "INFO:tensorflow:loss = 4448.9844, step = 6701 (0.099 sec)\n",
            "INFO:tensorflow:global_step/sec: 874.311\n",
            "INFO:tensorflow:loss = 4052.9539, step = 6801 (0.114 sec)\n",
            "INFO:tensorflow:global_step/sec: 1035.23\n",
            "INFO:tensorflow:loss = 5639.8193, step = 6901 (0.099 sec)\n",
            "INFO:tensorflow:global_step/sec: 1000.13\n",
            "INFO:tensorflow:loss = 4979.019, step = 7001 (0.098 sec)\n",
            "INFO:tensorflow:global_step/sec: 1067.87\n",
            "INFO:tensorflow:loss = 3931.2764, step = 7101 (0.095 sec)\n",
            "INFO:tensorflow:global_step/sec: 1006.83\n",
            "INFO:tensorflow:loss = 3434.9497, step = 7201 (0.097 sec)\n",
            "INFO:tensorflow:global_step/sec: 1001\n",
            "INFO:tensorflow:loss = 3970.2686, step = 7301 (0.101 sec)\n",
            "INFO:tensorflow:global_step/sec: 983.443\n",
            "INFO:tensorflow:loss = 3307.001, step = 7401 (0.101 sec)\n",
            "INFO:tensorflow:global_step/sec: 1015.61\n",
            "INFO:tensorflow:loss = 3937.0964, step = 7501 (0.099 sec)\n",
            "INFO:tensorflow:global_step/sec: 973.531\n",
            "INFO:tensorflow:loss = 3035.2156, step = 7601 (0.102 sec)\n",
            "INFO:tensorflow:global_step/sec: 1056.06\n",
            "INFO:tensorflow:loss = 2446.5215, step = 7701 (0.094 sec)\n",
            "INFO:tensorflow:global_step/sec: 876.97\n",
            "INFO:tensorflow:loss = 3376.978, step = 7801 (0.114 sec)\n",
            "INFO:tensorflow:global_step/sec: 1025.68\n",
            "INFO:tensorflow:loss = 2899.6643, step = 7901 (0.097 sec)\n",
            "INFO:tensorflow:global_step/sec: 977.363\n",
            "INFO:tensorflow:loss = 2821.7744, step = 8001 (0.104 sec)\n",
            "INFO:tensorflow:global_step/sec: 1011.71\n",
            "INFO:tensorflow:loss = 3652.232, step = 8101 (0.099 sec)\n",
            "INFO:tensorflow:global_step/sec: 963.758\n",
            "INFO:tensorflow:loss = 3382.7305, step = 8201 (0.102 sec)\n",
            "INFO:tensorflow:global_step/sec: 1033.74\n",
            "INFO:tensorflow:loss = 3136.0256, step = 8301 (0.097 sec)\n",
            "INFO:tensorflow:global_step/sec: 914.226\n",
            "INFO:tensorflow:loss = 3668.9978, step = 8401 (0.110 sec)\n",
            "INFO:tensorflow:global_step/sec: 921.89\n",
            "INFO:tensorflow:loss = 2362.6196, step = 8501 (0.108 sec)\n",
            "INFO:tensorflow:global_step/sec: 999.66\n",
            "INFO:tensorflow:loss = 3726.4631, step = 8601 (0.099 sec)\n",
            "INFO:tensorflow:global_step/sec: 968.422\n",
            "INFO:tensorflow:loss = 3499.7004, step = 8701 (0.104 sec)\n",
            "INFO:tensorflow:global_step/sec: 925.717\n",
            "INFO:tensorflow:loss = 2518.0393, step = 8801 (0.109 sec)\n",
            "INFO:tensorflow:global_step/sec: 1039.68\n",
            "INFO:tensorflow:loss = 2597.6155, step = 8901 (0.094 sec)\n",
            "INFO:tensorflow:global_step/sec: 981.188\n",
            "INFO:tensorflow:loss = 3506.3877, step = 9001 (0.103 sec)\n",
            "INFO:tensorflow:global_step/sec: 962.621\n",
            "INFO:tensorflow:loss = 2953.8418, step = 9101 (0.103 sec)\n",
            "INFO:tensorflow:global_step/sec: 941.637\n",
            "INFO:tensorflow:loss = 3103.4988, step = 9201 (0.110 sec)\n",
            "INFO:tensorflow:global_step/sec: 963.767\n",
            "INFO:tensorflow:loss = 3161.1602, step = 9301 (0.104 sec)\n",
            "INFO:tensorflow:global_step/sec: 918.305\n",
            "INFO:tensorflow:loss = 3634.3132, step = 9401 (0.110 sec)\n",
            "INFO:tensorflow:global_step/sec: 956.451\n",
            "INFO:tensorflow:loss = 2494.017, step = 9501 (0.101 sec)\n",
            "INFO:tensorflow:global_step/sec: 939.576\n",
            "INFO:tensorflow:loss = 3899.52, step = 9601 (0.106 sec)\n",
            "INFO:tensorflow:global_step/sec: 979.092\n",
            "INFO:tensorflow:loss = 2946.106, step = 9701 (0.103 sec)\n",
            "INFO:tensorflow:global_step/sec: 900.096\n",
            "INFO:tensorflow:loss = 2837.7747, step = 9801 (0.110 sec)\n",
            "INFO:tensorflow:global_step/sec: 1040.77\n",
            "INFO:tensorflow:loss = 3461.1807, step = 9901 (0.096 sec)\n",
            "INFO:tensorflow:Saving checkpoints for 10000 into /tmp/linearTDMaxMinSnowWeak5/model.ckpt.\n",
            "INFO:tensorflow:Loss for final step: 2750.6753.\n",
            "WARNING:tensorflow:float64 is not supported by many models, consider casting to float32.\n",
            "INFO:tensorflow:Graph was finalized.\n",
            "INFO:tensorflow:Restoring parameters from /tmp/linearTDMaxMinSnowWeak5/model.ckpt-10000\n",
            "INFO:tensorflow:Running local_init_op.\n",
            "INFO:tensorflow:Done running local_init_op.\n",
            "LinearRegression has RMSE of 52.41021137206483\n",
            "Just using average = 730.4425373134328 has RMSE of 78.44248249712302\n"
          ]
        }
      ]
    },
    {
      "cell_type": "markdown",
      "source": [
        "Temp Dewp  \n",
        "Model 1 got a RMSE of 53.1879 | Using the average of 730.4246 it got an RMSE of 77.0098  \n",
        "Model 2 got a RMSE of 53.3371 | Using the average of 731.2799 it got an RMSE of 78.1301  \n",
        "Model 3 got a RMSE of 58.3367 | Using the average of 728.2545 it got an RMSE of 78.9838  \n",
        "Model 4 got a RMSE of 51.9004 | Using the average of 730.0007 it got an RMSE of 75.7996  \n",
        "Model 5 got an RMSE of 53.7021 | Using the average of 729.8448 it got an RMSE of 75.7200  "
      ],
      "metadata": {
        "id": "L1Ok7ZJ-NiGg"
      }
    },
    {
      "cell_type": "markdown",
      "source": [
        "Temp Dewp Snow  \n",
        "Model 1 got a RMSE of 54.2052 | Using the average of 731.0612 it got an RMSE of 78.2361  \n",
        "Model 2 got a RMSE of 52.2373 | Using the average of 729.8478 it got an RMSE of 77.9094  \n",
        "Model 3 got a RMSE of 53.9293 | Using the average of 731.5626 it got an RMSE of 78.2305  \n",
        "Model 4 got a RMSE of 54.0279 | Using the average of 729.2828 it got an RMSE of 75.6122  \n",
        "Model 5 got an RMSE of 54.1470 | Using the average of 731.2231 it got an RMSE of 79.2849  \n"
      ],
      "metadata": {
        "id": "8mVBjyewNoM4"
      }
    },
    {
      "cell_type": "markdown",
      "source": [
        "Temp Dewp Max Min  \n",
        "Model 1 got a RMSE of 55.0659 | Using the average of 729.0015 it got an RMSE of 75.2594  \n",
        "Model 2 got a RMSE of 53.4855 | Using the average of 730.5134 it got an RMSE of 76.8938  \n",
        "Model 3 got a RMSE of 53.6011 | Using the average of 727.4918 it got an RMSE of 77.0739  \n",
        "Model 4 got a RMSE of 53.8609 | Using the average of 729.1358 it got an RMSE of 77.6193  \n",
        "Model 5 got an RMSE of 53.5432 | Using the average of 729.7963 it got an RMSE of 78.5241   "
      ],
      "metadata": {
        "id": "lJZEoLKqNuEJ"
      }
    },
    {
      "cell_type": "markdown",
      "source": [
        "Temp Dew Max Min Sndp  \n",
        "Model 1 got a RMSE of 50.2573 | Using the average of 729.8657 it got an RMSE of 77.3670  \n",
        "Model 2 got a RMSE of 52.5694 | Using the average of 730.8866 it got an RMSE of 76.3152  \n",
        "Model 3 got a RMSE of 51.9747 | Using the average of 730.8522 it got an RMSE of 75.6021  \n",
        "Model 4 got a RMSE of 50.7424 | Using the average of 731.3545 it got an RMSE of 74.4127  \n",
        "Model 5 got an RMSE of 52.4102 | Using the average of 730.4425 it got an RMSE of 78.4425   "
      ],
      "metadata": {
        "id": "3H3V7BNWOtb7"
      }
    },
    {
      "cell_type": "code",
      "metadata": {
        "id": "S646OaU0R8UQ",
        "outputId": "0a15356a-3421-42df-858b-6a5d9098c123",
        "colab": {
          "base_uri": "https://localhost:8080/"
        }
      },
      "source": [
        "# Creating a variable for the last 5% of the data that is easy to handle\n",
        "input = predictors[testsize + trainsize:]\n",
        "\t\t\t\t\t\n",
        "# Boilerplate for creating the estimator\n",
        "# linearTDWeak\n",
        "# linearTDSnowWeak\n",
        "# linearTDMaxMinWeak\n",
        "# linearTDMaxMinSnowWeak\n",
        "estimator = tf.contrib.learn.SKCompat(tf.contrib.learn.LinearRegressor(model_dir='/tmp/linearTDMaxMinSnowWeak5', enable_centered_bias=False, feature_columns=tf.contrib.learn.infer_real_valued_columns_from_input(input.values)))\n",
        "\n",
        "# Predicting the values \n",
        "preds = estimator.predict(x=input.values)\n",
        "\n",
        "# Creating a list of predictions \n",
        "predslist = preds['scores']*SCALE_NUM_TRIPS\n",
        "\n",
        "# Creating the RMSE by comparing the targets to the list of predictions\n",
        "rmse = np.sqrt(np.mean((targets[testsize + trainsize:].values - predslist)**2))\n",
        "\n",
        "# Calculate the mean of the Number of Crimes Values.\n",
        "avg = np.mean(shuffle['NUM_CRIMES'][testsize + trainsize:])\n",
        "\n",
        "corr_matrix = np.corrcoef(targets[testsize + trainsize:].values, predslist)\n",
        "corr = corr_matrix[0,1]\n",
        "R_sq = corr**2\n",
        "\n",
        "print()\n",
        "# Printing the rmse and average crimes\n",
        "print('LinearRegression has RMSE of {0}'.format(rmse));\n",
        "print('Average is {0}'.format(avg))\n",
        "print('The coefficient of determination is {0}'.format(R_sq))"
      ],
      "execution_count": 172,
      "outputs": [
        {
          "output_type": "stream",
          "name": "stdout",
          "text": [
            "WARNING:tensorflow:float64 is not supported by many models, consider casting to float32.\n",
            "INFO:tensorflow:Using default config.\n",
            "INFO:tensorflow:Using config: {'_task_type': None, '_task_id': 0, '_cluster_spec': <tensorflow.python.training.server_lib.ClusterSpec object at 0x7ff4881afa90>, '_master': '', '_num_ps_replicas': 0, '_num_worker_replicas': 0, '_environment': 'local', '_is_chief': True, '_evaluation_master': '', '_train_distribute': None, '_eval_distribute': None, '_experimental_max_worker_delay_secs': None, '_device_fn': None, '_tf_config': gpu_options {\n",
            "  per_process_gpu_memory_fraction: 1.0\n",
            "}\n",
            ", '_tf_random_seed': None, '_save_summary_steps': 100, '_save_checkpoints_secs': 600, '_log_step_count_steps': 100, '_protocol': None, '_session_config': None, '_save_checkpoints_steps': None, '_keep_checkpoint_max': 5, '_keep_checkpoint_every_n_hours': 10000, '_model_dir': '/tmp/linearTDMaxMinSnowWeak5', '_session_creation_timeout_secs': 7200}\n",
            "WARNING:tensorflow:float64 is not supported by many models, consider casting to float32.\n",
            "INFO:tensorflow:Graph was finalized.\n",
            "INFO:tensorflow:Restoring parameters from /tmp/linearTDMaxMinSnowWeak5/model.ckpt-10000\n",
            "INFO:tensorflow:Running local_init_op.\n",
            "INFO:tensorflow:Done running local_init_op.\n",
            "\n",
            "LinearRegression has RMSE of 54.64163433492286\n",
            "Average is 730.5666666666667\n",
            "The coefficient of determination is 0.4235581688462463\n"
          ]
        }
      ]
    },
    {
      "cell_type": "markdown",
      "metadata": {
        "id": "GsPQDn93UoDK"
      },
      "source": [
        "Temp Dewp  \n",
        "Model 1 got a RMSE of 53.0432 and a r^2 of 0.4924  \n",
        "Model 2 got a RMSE of 53.3792 and a r^2 of 0.5344  \n",
        "Model 3 got a RMSE of 54.9113 and a r^2 of 0.5161  \n",
        "Model 4 got a RMSE of 55.3390 and a r^2 of 0.5491  \n",
        "Model 5 got an RMSE of 53.5846 and a r^2 of 0.5834  "
      ]
    },
    {
      "cell_type": "markdown",
      "source": [
        "Temp Dewp Sndp  \n",
        "Model 1 got a RMSE of 46.5864 and a r^2 of 0.6221  \n",
        "Model 2 got a RMSE of 54.9028 and a r^2 of 0.5367  \n",
        "Model 3 got a RMSE of 50.8214 and a r^2 of 0.6143  \n",
        "Model 4 got a RMSE of 62.2075 and a r^2 of 0.4291  \n",
        "Model 5 got an RMSE of 42.5731 and a r^2 of 0.6129  "
      ],
      "metadata": {
        "id": "qxibF4AJO7Nz"
      }
    },
    {
      "cell_type": "markdown",
      "source": [
        "Temp Dewp Max Min  \n",
        "Model 1 got a RMSE of 53.9638 and a r^2 of 0.4492  \n",
        "Model 2 got a RMSE of 50.2790 and a r^2 of 0.6400  \n",
        "Model 3 got a RMSE of 59.4078 and a r^2 of 0.4375  \n",
        "Model 4 got a RMSE of 59.3535 and a r^2 of 0.5510  \n",
        "Model 5 got an RMSE of 53.6890 and a r^2 of 0.5399  \n"
      ],
      "metadata": {
        "id": "6SEaGoQjO7aN"
      }
    },
    {
      "cell_type": "markdown",
      "source": [
        "Temp Dewp Max Min Sndp  \n",
        "Model 1 got a RMSE of 56.1904 and a r^2 of 0.5295  \n",
        "Model 2 got a RMSE of 51.4885 and a r^2 of 0.5613  \n",
        "Model 3 got a RMSE of 60.2221 and a r^2 of 0.4788  \n",
        "Model 4 got a RMSE of 50.5584 and a r^2 of 0.5483  \n",
        "Model 5 got an RMSE of 54.6416 and a r^2 of 0.4236  "
      ],
      "metadata": {
        "id": "hKCEtY8fO7oc"
      }
    }
  ]
}